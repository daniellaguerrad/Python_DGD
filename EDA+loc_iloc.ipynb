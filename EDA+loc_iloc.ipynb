{
 "cells": [
  {
   "cell_type": "markdown",
   "metadata": {},
   "source": [
    "Proyecto Nextflix"
   ]
  },
  {
   "cell_type": "markdown",
   "metadata": {},
   "source": [
    "Carga de datos:"
   ]
  },
  {
   "cell_type": "code",
   "execution_count": 19,
   "metadata": {},
   "outputs": [],
   "source": [
    "import pandas as pd\n",
    "\n",
    "df_originals = pd.read_csv('C:/Users/Daniella Guerra/Desktop/Python - Pandas/Netflix_Project/datos/netflix_originals.csv')\n",
    "df_titles = pd.read_csv('C:/Users/Daniella Guerra/Desktop/Python - Pandas/Netflix_Project/datos/netflix_titles.csv')\n"
   ]
  },
  {
   "cell_type": "code",
   "execution_count": null,
   "metadata": {},
   "outputs": [
    {
     "name": "stdout",
     "output_type": "stream",
     "text": [
      "       Unnamed: 0     Runtime  IMDB Score\n",
      "count  513.000000  513.000000  513.000000\n",
      "mean   280.984405   94.674464    6.210916\n",
      "std    166.445537   26.648121    0.968850\n",
      "min      0.000000    4.000000    2.500000\n",
      "25%    137.000000   87.000000    5.600000\n",
      "50%    277.000000   97.000000    6.300000\n",
      "75%    422.000000  108.000000    6.900000\n",
      "max    583.000000  209.000000    9.000000\n",
      "        Unnamed: 0  release_year\n",
      "count  8807.000000   8807.000000\n",
      "mean   4403.000000   2014.180198\n",
      "std    2542.506244      8.819312\n",
      "min       0.000000   1925.000000\n",
      "25%    2201.500000   2013.000000\n",
      "50%    4403.000000   2017.000000\n",
      "75%    6604.500000   2019.000000\n",
      "max    8806.000000   2021.000000\n"
     ]
    }
   ],
   "source": [
    "#Visualizamos la estadistica para cada columna, asi podremos detectar donde basarnos para nuestro analisis\n",
    "\n",
    "print(df_originals.describe())\n",
    "print(df_titles.describe())\n",
    "\n"
   ]
  },
  {
   "cell_type": "code",
   "execution_count": null,
   "metadata": {},
   "outputs": [
    {
     "name": "stdout",
     "output_type": "stream",
     "text": [
      "Unnamed: 0    0\n",
      "Title         0\n",
      "Genre         0\n",
      "Premiere      0\n",
      "Runtime       0\n",
      "IMDB Score    0\n",
      "Language      0\n",
      "dtype: int64\n",
      "Unnamed: 0         0\n",
      "show_id            0\n",
      "type               0\n",
      "title              0\n",
      "director        2634\n",
      "cast             825\n",
      "country          831\n",
      "date_added        10\n",
      "release_year       0\n",
      "rating             4\n",
      "duration        4813\n",
      "listed_in          0\n",
      "description        0\n",
      "dtype: int64\n"
     ]
    }
   ],
   "source": [
    "#Identificamos valores nulos para poder trabajar en ellos\n",
    "\n",
    "print(df_originals.isnull().sum())\n",
    "print(df_titles.isnull().sum())\n",
    "\n",
    "#Podemos ver que tenemos valores nulos, pudiendo deberse a la falta de informacion en estos caso"
   ]
  },
  {
   "cell_type": "code",
   "execution_count": null,
   "metadata": {},
   "outputs": [
    {
     "name": "stdout",
     "output_type": "stream",
     "text": [
      "0\n",
      "0\n"
     ]
    }
   ],
   "source": [
    "#Identificamos valores duplicados, donde, por suerte, no tenemos ninguno para este estudio\n",
    "\n",
    "print(df_originals.duplicated().sum())\n",
    "print(df_titles.duplicated().sum())\n"
   ]
  },
  {
   "cell_type": "markdown",
   "metadata": {},
   "source": [
    "Analisis de columnas y estructura"
   ]
  },
  {
   "cell_type": "code",
   "execution_count": null,
   "metadata": {},
   "outputs": [
    {
     "name": "stdout",
     "output_type": "stream",
     "text": [
      "Tamaño de Netflix Originals:\n",
      "(513, 7)\n",
      "\n",
      "Tamaño de Netflix Titles:\n",
      "(8807, 13)\n"
     ]
    }
   ],
   "source": [
    "#Tamaño de filas y columnas\n",
    "\n",
    "print(\"Tamaño de Netflix Originals:\")\n",
    "print(df_originals.shape)\n",
    "\n",
    "print(\"\\nTamaño de Netflix Titles:\")\n",
    "print(df_titles.shape)\n"
   ]
  },
  {
   "cell_type": "code",
   "execution_count": null,
   "metadata": {},
   "outputs": [
    {
     "name": "stdout",
     "output_type": "stream",
     "text": [
      "\n",
      "Descripción de Netflix Originals:\n",
      "        Unnamed: 0                                     Title        Genre  \\\n",
      "count   513.000000                                       513          513   \n",
      "unique         NaN                                       513          106   \n",
      "top            NaN  David Attenborough: A Life on Our Planet  Documentary   \n",
      "freq           NaN                                         1          132   \n",
      "mean    280.984405                                       NaN          NaN   \n",
      "std     166.445537                                       NaN          NaN   \n",
      "min       0.000000                                       NaN          NaN   \n",
      "25%     137.000000                                       NaN          NaN   \n",
      "50%     277.000000                                       NaN          NaN   \n",
      "75%     422.000000                                       NaN          NaN   \n",
      "max     583.000000                                       NaN          NaN   \n",
      "\n",
      "                Premiere     Runtime  IMDB Score Language  \n",
      "count                513  513.000000  513.000000      513  \n",
      "unique               350         NaN         NaN       37  \n",
      "top     October 18, 2019         NaN         NaN  English  \n",
      "freq                   5         NaN         NaN      352  \n",
      "mean                 NaN   94.674464    6.210916      NaN  \n",
      "std                  NaN   26.648121    0.968850      NaN  \n",
      "min                  NaN    4.000000    2.500000      NaN  \n",
      "25%                  NaN   87.000000    5.600000      NaN  \n",
      "50%                  NaN   97.000000    6.300000      NaN  \n",
      "75%                  NaN  108.000000    6.900000      NaN  \n",
      "max                  NaN  209.000000    9.000000      NaN  \n",
      "\n",
      "Descripción de Netflix Titles:\n",
      "         Unnamed: 0 show_id   type   title       director                cast  \\\n",
      "count   8807.000000    8807   8807    8807           6173                7982   \n",
      "unique          NaN    8807      2    8807           4528                7692   \n",
      "top             NaN   s8807  Movie  Zubaan  Rajiv Chilaka  David Attenborough   \n",
      "freq            NaN       1   6131       1             19                  19   \n",
      "mean    4403.000000     NaN    NaN     NaN            NaN                 NaN   \n",
      "std     2542.506244     NaN    NaN     NaN            NaN                 NaN   \n",
      "min        0.000000     NaN    NaN     NaN            NaN                 NaN   \n",
      "25%     2201.500000     NaN    NaN     NaN            NaN                 NaN   \n",
      "50%     4403.000000     NaN    NaN     NaN            NaN                 NaN   \n",
      "75%     6604.500000     NaN    NaN     NaN            NaN                 NaN   \n",
      "max     8806.000000     NaN    NaN     NaN            NaN                 NaN   \n",
      "\n",
      "              country       date_added  release_year rating   duration  \\\n",
      "count            7976             8797   8807.000000   8803       3994   \n",
      "unique            748             1767           NaN     17        185   \n",
      "top     United States  January 1, 2020           NaN  TV-MA  2 Seasons   \n",
      "freq             2818              109           NaN   3207        425   \n",
      "mean              NaN              NaN   2014.180198    NaN        NaN   \n",
      "std               NaN              NaN      8.819312    NaN        NaN   \n",
      "min               NaN              NaN   1925.000000    NaN        NaN   \n",
      "25%               NaN              NaN   2013.000000    NaN        NaN   \n",
      "50%               NaN              NaN   2017.000000    NaN        NaN   \n",
      "75%               NaN              NaN   2019.000000    NaN        NaN   \n",
      "max               NaN              NaN   2021.000000    NaN        NaN   \n",
      "\n",
      "                           listed_in  \\\n",
      "count                           8807   \n",
      "unique                           514   \n",
      "top     Dramas, International Movies   \n",
      "freq                             362   \n",
      "mean                             NaN   \n",
      "std                              NaN   \n",
      "min                              NaN   \n",
      "25%                              NaN   \n",
      "50%                              NaN   \n",
      "75%                              NaN   \n",
      "max                              NaN   \n",
      "\n",
      "                                              description  \n",
      "count                                                8807  \n",
      "unique                                               8775  \n",
      "top     Paranormal activity at a lush, abandoned prope...  \n",
      "freq                                                    4  \n",
      "mean                                                  NaN  \n",
      "std                                                   NaN  \n",
      "min                                                   NaN  \n",
      "25%                                                   NaN  \n",
      "50%                                                   NaN  \n",
      "75%                                                   NaN  \n",
      "max                                                   NaN  \n"
     ]
    }
   ],
   "source": [
    "#Analisis de estadisticas descriptivas\n",
    "print(\"\\nDescripción de Netflix Originals:\")\n",
    "print(df_originals.describe(include='all'))\n",
    "\n",
    "print(\"\\nDescripción de Netflix Titles:\")\n",
    "print(df_titles.describe(include='all'))\n"
   ]
  },
  {
   "cell_type": "code",
   "execution_count": null,
   "metadata": {},
   "outputs": [
    {
     "name": "stdout",
     "output_type": "stream",
     "text": [
      "\n",
      "Títulos únicos en Netflix Originals:\n",
      "513\n",
      "\n",
      "Títulos únicos en Netflix Titles:\n",
      "8807\n"
     ]
    }
   ],
   "source": [
    "#Conteo de titulos únicos para cada conjunto de datos\n",
    "\n",
    "print(\"\\nTítulos únicos en Netflix Originals:\")\n",
    "print(df_originals['Title'].nunique())\n",
    "\n",
    "print(\"\\nTítulos únicos en Netflix Titles:\")\n",
    "print(df_titles['title'].nunique())\n"
   ]
  },
  {
   "cell_type": "code",
   "execution_count": null,
   "metadata": {},
   "outputs": [
    {
     "name": "stdout",
     "output_type": "stream",
     "text": [
      "\n",
      "Duplicados en Netflix Originals:\n",
      "0\n",
      "\n",
      "Duplicados en Netflix Titles:\n",
      "0\n"
     ]
    }
   ],
   "source": [
    "#Conteo de duplicados para cada conjunto de datos\n",
    "\n",
    "print(\"\\nDuplicados en Netflix Originals:\")\n",
    "print(df_originals.duplicated().sum())\n",
    "\n",
    "print(\"\\nDuplicados en Netflix Titles:\")\n",
    "print(df_titles.duplicated().sum())\n"
   ]
  },
  {
   "cell_type": "code",
   "execution_count": null,
   "metadata": {},
   "outputs": [
    {
     "name": "stdout",
     "output_type": "stream",
     "text": [
      "\n",
      "Valores nulos en Netflix Originals:\n",
      "Unnamed: 0    0\n",
      "Title         0\n",
      "Genre         0\n",
      "Premiere      0\n",
      "Runtime       0\n",
      "IMDB Score    0\n",
      "Language      0\n",
      "dtype: int64\n",
      "\n",
      "Valores nulos en Netflix Titles:\n",
      "Unnamed: 0         0\n",
      "show_id            0\n",
      "type               0\n",
      "title              0\n",
      "director        2634\n",
      "cast             825\n",
      "country          831\n",
      "date_added        10\n",
      "release_year       0\n",
      "rating             4\n",
      "duration        4813\n",
      "listed_in          0\n",
      "description        0\n",
      "dtype: int64\n"
     ]
    }
   ],
   "source": [
    "#Conteo de valores nulos para cada conjunto de datos\n",
    "print(\"\\nValores nulos en Netflix Originals:\")\n",
    "print(df_originals.isnull().sum())\n",
    "\n",
    "print(\"\\nValores nulos en Netflix Titles:\")\n",
    "print(df_titles.isnull().sum())\n"
   ]
  },
  {
   "cell_type": "markdown",
   "metadata": {},
   "source": [
    "Tendriamos dos caso: columnas con Vlores Nulos Significativos\n",
    "\n",
    "director: 2634 valores nulos.\n",
    "duration: 4813 valores nulos (esta es una de las columnas más afectadas)\n",
    "cast: 825 valores nulos.\n",
    "country: 831 valores nulos.\n",
    "\n",
    "Y columnas con Pocos Valores Nulos:\n",
    "\n",
    "date_added: 10 valores nulos.\n",
    "rating: 4 valores nulos.\n",
    "\n",
    "En caso de estos valores, al no tener duplicados, no podemos saber ciertos valores como el director, duracion, cast o pais. Por lo que procederemos a rellenar como desconocido."
   ]
  },
  {
   "cell_type": "code",
   "execution_count": null,
   "metadata": {},
   "outputs": [],
   "source": [
    "merged_df['director'] = merged_df['director'].fillna('Desconocido')\n",
    "merged_df['cast'] = merged_df['cast'].fillna('Cast Desconocido')\n",
    "merged_df['country'] = merged_df['country'].fillna('País Desconocido')\n",
    "merged_df['duration'] = merged_df['duration'].fillna('Duración Desconocida')\n",
    "merged_df['date_added'] = merged_df['date_added'].fillna('Fecha Desconocida')\n",
    "merged_df['rating'] = merged_df['rating'].fillna('Sin Clasificar')"
   ]
  },
  {
   "cell_type": "code",
   "execution_count": 40,
   "metadata": {},
   "outputs": [
    {
     "name": "stdout",
     "output_type": "stream",
     "text": [
      "Valores nulos después del tratamiento:\n",
      "Unnamed: 0         0\n",
      "show_id            0\n",
      "type               0\n",
      "title              0\n",
      "director        2634\n",
      "cast             825\n",
      "country          831\n",
      "date_added        10\n",
      "release_year       0\n",
      "rating             4\n",
      "duration        4813\n",
      "listed_in          0\n",
      "description        0\n",
      "dtype: int64\n"
     ]
    }
   ],
   "source": [
    "#Verificando si ya no hay valores nulos\n",
    "print(\"Valores nulos después del tratamiento:\")\n",
    "print(df_titles.isnull().sum())"
   ]
  },
  {
   "cell_type": "code",
   "execution_count": null,
   "metadata": {},
   "outputs": [
    {
     "name": "stdout",
     "output_type": "stream",
     "text": [
      "\n",
      "Géneros en Netflix Originals:\n",
      "Genre\n",
      "Documentary                             132\n",
      "Drama                                    73\n",
      "Comedy                                   42\n",
      "Romantic comedy                          35\n",
      "Thriller                                 33\n",
      "                                       ... \n",
      "Action-adventure                          1\n",
      "Concert Film                              1\n",
      "Animation / Science Fiction               1\n",
      "Anthology/Dark comedy                     1\n",
      "Animation/Christmas/Comedy/Adventure      1\n",
      "Name: count, Length: 106, dtype: int64\n",
      "\n",
      "Géneros en Netflix Titles:\n",
      "listed_in\n",
      "Dramas, International Movies                        362\n",
      "Documentaries                                       359\n",
      "Stand-Up Comedy                                     334\n",
      "Comedies, Dramas, International Movies              274\n",
      "Dramas, Independent Movies, International Movies    252\n",
      "                                                   ... \n",
      "Action & Adventure, Cult Movies                       1\n",
      "Action & Adventure, Comedies, Music & Musicals        1\n",
      "Classic Movies, Horror Movies, Thrillers              1\n",
      "Children & Family Movies, Classic Movies, Dramas      1\n",
      "Cult Movies, Dramas, Thrillers                        1\n",
      "Name: count, Length: 514, dtype: int64\n"
     ]
    }
   ],
   "source": [
    "#Calculo de generos en los conjuntos de datos\n",
    "\n",
    "print(\"\\nGéneros en Netflix Originals:\")\n",
    "print(df_originals['Genre'].value_counts())\n",
    "\n",
    "print(\"\\nGéneros en Netflix Titles:\")\n",
    "print(df_titles['listed_in'].value_counts())\n"
   ]
  },
  {
   "cell_type": "code",
   "execution_count": null,
   "metadata": {},
   "outputs": [
    {
     "name": "stdout",
     "output_type": "stream",
     "text": [
      "Distribución de idiomas en Netflix Originals:\n",
      "Language\n",
      "English                       352\n",
      "Hindi                          28\n",
      "Spanish                        26\n",
      "French                         18\n",
      "Italian                        14\n",
      "Portuguese                      9\n",
      "Indonesian                      9\n",
      "Japanese                        5\n",
      "English/Spanish                 5\n",
      "Korean                          5\n",
      "Turkish                         4\n",
      "German                          4\n",
      "Marathi                         3\n",
      "Polish                          3\n",
      "English/Japanese                2\n",
      "Dutch                           2\n",
      "Filipino                        2\n",
      "Thai                            2\n",
      "English/Hindi                   2\n",
      "Norwegian                       1\n",
      "Malay                           1\n",
      "Swedish                         1\n",
      "Spanish/Basque                  1\n",
      "English/Swedish                 1\n",
      "Spanish/Catalan                 1\n",
      "English/Taiwanese/Mandarin      1\n",
      "Thia/English                    1\n",
      "Bengali                         1\n",
      "Khmer/English/French            1\n",
      "Tamil                           1\n",
      "Spanish/English                 1\n",
      "English/Korean                  1\n",
      "English/Arabic                  1\n",
      "English/Mandarin                1\n",
      "English/Russian                 1\n",
      "English/Akan                    1\n",
      "English/Ukranian/Russian        1\n",
      "Name: count, dtype: int64\n",
      "\n",
      "Distribución de países en Netflix Titles:\n",
      "country\n",
      "United States                                             2812\n",
      "India                                                      972\n",
      "Unknown Country                                            830\n",
      "United Kingdom                                             418\n",
      "Japan                                                      244\n",
      "                                                          ... \n",
      "Germany, Canada, United States                               1\n",
      "Denmark, United Kingdom, South Africa, Sweden, Belgium       1\n",
      "Serbia, South Korea, Slovenia                                1\n",
      "United Kingdom, Spain, Belgium                               1\n",
      "South Africa, United States, Japan                           1\n",
      "Name: count, Length: 749, dtype: int64\n"
     ]
    }
   ],
   "source": [
    "#Países en Netflix Originals (columna Language)\n",
    "country_distribution_originals = df_originals['Language'].value_counts()\n",
    "print(\"Distribución de idiomas en Netflix Originals:\")\n",
    "print(country_distribution_originals)\n",
    "\n",
    "#Países en Netflix Titles\n",
    "country_distribution_titles = df_titles['country'].value_counts()\n",
    "print(\"\\nDistribución de países en Netflix Titles:\")\n",
    "print(country_distribution_titles)\n"
   ]
  },
  {
   "cell_type": "code",
   "execution_count": null,
   "metadata": {},
   "outputs": [
    {
     "name": "stdout",
     "output_type": "stream",
     "text": [
      "\n",
      "Idiomas en Netflix Originals:\n",
      "Language\n",
      "English                       352\n",
      "Hindi                          28\n",
      "Spanish                        26\n",
      "French                         18\n",
      "Italian                        14\n",
      "Portuguese                      9\n",
      "Indonesian                      9\n",
      "Japanese                        5\n",
      "English/Spanish                 5\n",
      "Korean                          5\n",
      "Turkish                         4\n",
      "German                          4\n",
      "Marathi                         3\n",
      "Polish                          3\n",
      "English/Japanese                2\n",
      "Dutch                           2\n",
      "Filipino                        2\n",
      "Thai                            2\n",
      "English/Hindi                   2\n",
      "Norwegian                       1\n",
      "Malay                           1\n",
      "Swedish                         1\n",
      "Spanish/Basque                  1\n",
      "English/Swedish                 1\n",
      "Spanish/Catalan                 1\n",
      "English/Taiwanese/Mandarin      1\n",
      "Thia/English                    1\n",
      "Bengali                         1\n",
      "Khmer/English/French            1\n",
      "Tamil                           1\n",
      "Spanish/English                 1\n",
      "English/Korean                  1\n",
      "English/Arabic                  1\n",
      "English/Mandarin                1\n",
      "English/Russian                 1\n",
      "English/Akan                    1\n",
      "English/Ukranian/Russian        1\n",
      "Name: count, dtype: int64\n"
     ]
    },
    {
     "ename": "KeyError",
     "evalue": "'Language'",
     "output_type": "error",
     "traceback": [
      "\u001b[1;31m---------------------------------------------------------------------------\u001b[0m",
      "\u001b[1;31mKeyError\u001b[0m                                  Traceback (most recent call last)",
      "File \u001b[1;32m~\\AppData\\Local\\Packages\\PythonSoftwareFoundation.Python.3.11_qbz5n2kfra8p0\\LocalCache\\local-packages\\Python311\\site-packages\\pandas\\core\\indexes\\base.py:3805\u001b[0m, in \u001b[0;36mIndex.get_loc\u001b[1;34m(self, key)\u001b[0m\n\u001b[0;32m   3804\u001b[0m \u001b[38;5;28;01mtry\u001b[39;00m:\n\u001b[1;32m-> 3805\u001b[0m     \u001b[38;5;28;01mreturn\u001b[39;00m \u001b[38;5;28;43mself\u001b[39;49m\u001b[38;5;241;43m.\u001b[39;49m\u001b[43m_engine\u001b[49m\u001b[38;5;241;43m.\u001b[39;49m\u001b[43mget_loc\u001b[49m\u001b[43m(\u001b[49m\u001b[43mcasted_key\u001b[49m\u001b[43m)\u001b[49m\n\u001b[0;32m   3806\u001b[0m \u001b[38;5;28;01mexcept\u001b[39;00m \u001b[38;5;167;01mKeyError\u001b[39;00m \u001b[38;5;28;01mas\u001b[39;00m err:\n",
      "File \u001b[1;32mindex.pyx:167\u001b[0m, in \u001b[0;36mpandas._libs.index.IndexEngine.get_loc\u001b[1;34m()\u001b[0m\n",
      "File \u001b[1;32mindex.pyx:196\u001b[0m, in \u001b[0;36mpandas._libs.index.IndexEngine.get_loc\u001b[1;34m()\u001b[0m\n",
      "File \u001b[1;32mpandas\\\\_libs\\\\hashtable_class_helper.pxi:7081\u001b[0m, in \u001b[0;36mpandas._libs.hashtable.PyObjectHashTable.get_item\u001b[1;34m()\u001b[0m\n",
      "File \u001b[1;32mpandas\\\\_libs\\\\hashtable_class_helper.pxi:7089\u001b[0m, in \u001b[0;36mpandas._libs.hashtable.PyObjectHashTable.get_item\u001b[1;34m()\u001b[0m\n",
      "\u001b[1;31mKeyError\u001b[0m: 'Language'",
      "\nThe above exception was the direct cause of the following exception:\n",
      "\u001b[1;31mKeyError\u001b[0m                                  Traceback (most recent call last)",
      "Cell \u001b[1;32mIn[65], line 7\u001b[0m\n\u001b[0;32m      4\u001b[0m \u001b[38;5;28mprint\u001b[39m(language_distribution_originals)\n\u001b[0;32m      6\u001b[0m \u001b[38;5;66;03m# Idiomas en Netflix Titles\u001b[39;00m\n\u001b[1;32m----> 7\u001b[0m language_distribution_titles \u001b[38;5;241m=\u001b[39m \u001b[43mdf_titles\u001b[49m\u001b[43m[\u001b[49m\u001b[38;5;124;43m'\u001b[39;49m\u001b[38;5;124;43mLanguage\u001b[39;49m\u001b[38;5;124;43m'\u001b[39;49m\u001b[43m]\u001b[49m\u001b[38;5;241m.\u001b[39mvalue_counts()\n\u001b[0;32m      8\u001b[0m \u001b[38;5;28mprint\u001b[39m(\u001b[38;5;124m\"\u001b[39m\u001b[38;5;130;01m\\n\u001b[39;00m\u001b[38;5;124mIdiomas en Netflix Titles:\u001b[39m\u001b[38;5;124m\"\u001b[39m)\n\u001b[0;32m      9\u001b[0m \u001b[38;5;28mprint\u001b[39m(language_distribution_titles)\n",
      "File \u001b[1;32m~\\AppData\\Local\\Packages\\PythonSoftwareFoundation.Python.3.11_qbz5n2kfra8p0\\LocalCache\\local-packages\\Python311\\site-packages\\pandas\\core\\frame.py:4102\u001b[0m, in \u001b[0;36mDataFrame.__getitem__\u001b[1;34m(self, key)\u001b[0m\n\u001b[0;32m   4100\u001b[0m \u001b[38;5;28;01mif\u001b[39;00m \u001b[38;5;28mself\u001b[39m\u001b[38;5;241m.\u001b[39mcolumns\u001b[38;5;241m.\u001b[39mnlevels \u001b[38;5;241m>\u001b[39m \u001b[38;5;241m1\u001b[39m:\n\u001b[0;32m   4101\u001b[0m     \u001b[38;5;28;01mreturn\u001b[39;00m \u001b[38;5;28mself\u001b[39m\u001b[38;5;241m.\u001b[39m_getitem_multilevel(key)\n\u001b[1;32m-> 4102\u001b[0m indexer \u001b[38;5;241m=\u001b[39m \u001b[38;5;28;43mself\u001b[39;49m\u001b[38;5;241;43m.\u001b[39;49m\u001b[43mcolumns\u001b[49m\u001b[38;5;241;43m.\u001b[39;49m\u001b[43mget_loc\u001b[49m\u001b[43m(\u001b[49m\u001b[43mkey\u001b[49m\u001b[43m)\u001b[49m\n\u001b[0;32m   4103\u001b[0m \u001b[38;5;28;01mif\u001b[39;00m is_integer(indexer):\n\u001b[0;32m   4104\u001b[0m     indexer \u001b[38;5;241m=\u001b[39m [indexer]\n",
      "File \u001b[1;32m~\\AppData\\Local\\Packages\\PythonSoftwareFoundation.Python.3.11_qbz5n2kfra8p0\\LocalCache\\local-packages\\Python311\\site-packages\\pandas\\core\\indexes\\base.py:3812\u001b[0m, in \u001b[0;36mIndex.get_loc\u001b[1;34m(self, key)\u001b[0m\n\u001b[0;32m   3807\u001b[0m     \u001b[38;5;28;01mif\u001b[39;00m \u001b[38;5;28misinstance\u001b[39m(casted_key, \u001b[38;5;28mslice\u001b[39m) \u001b[38;5;129;01mor\u001b[39;00m (\n\u001b[0;32m   3808\u001b[0m         \u001b[38;5;28misinstance\u001b[39m(casted_key, abc\u001b[38;5;241m.\u001b[39mIterable)\n\u001b[0;32m   3809\u001b[0m         \u001b[38;5;129;01mand\u001b[39;00m \u001b[38;5;28many\u001b[39m(\u001b[38;5;28misinstance\u001b[39m(x, \u001b[38;5;28mslice\u001b[39m) \u001b[38;5;28;01mfor\u001b[39;00m x \u001b[38;5;129;01min\u001b[39;00m casted_key)\n\u001b[0;32m   3810\u001b[0m     ):\n\u001b[0;32m   3811\u001b[0m         \u001b[38;5;28;01mraise\u001b[39;00m InvalidIndexError(key)\n\u001b[1;32m-> 3812\u001b[0m     \u001b[38;5;28;01mraise\u001b[39;00m \u001b[38;5;167;01mKeyError\u001b[39;00m(key) \u001b[38;5;28;01mfrom\u001b[39;00m \u001b[38;5;21;01merr\u001b[39;00m\n\u001b[0;32m   3813\u001b[0m \u001b[38;5;28;01mexcept\u001b[39;00m \u001b[38;5;167;01mTypeError\u001b[39;00m:\n\u001b[0;32m   3814\u001b[0m     \u001b[38;5;66;03m# If we have a listlike key, _check_indexing_error will raise\u001b[39;00m\n\u001b[0;32m   3815\u001b[0m     \u001b[38;5;66;03m#  InvalidIndexError. Otherwise we fall through and re-raise\u001b[39;00m\n\u001b[0;32m   3816\u001b[0m     \u001b[38;5;66;03m#  the TypeError.\u001b[39;00m\n\u001b[0;32m   3817\u001b[0m     \u001b[38;5;28mself\u001b[39m\u001b[38;5;241m.\u001b[39m_check_indexing_error(key)\n",
      "\u001b[1;31mKeyError\u001b[0m: 'Language'"
     ]
    }
   ],
   "source": [
    "#Idiomas en Netflix Originals\n",
    "language_distribution_originals = df_originals['Language'].value_counts()\n",
    "print(\"\\nIdiomas en Netflix Originals:\")\n",
    "print(language_distribution_originals)\n",
    "\n",
    "#Idiomas en Netflix Titles\n",
    "language_distribution_titles = df_titles['Language'].value_counts()\n",
    "print(\"\\nIdiomas en Netflix Titles:\")\n",
    "print(language_distribution_titles)\n"
   ]
  },
  {
   "cell_type": "code",
   "execution_count": null,
   "metadata": {},
   "outputs": [
    {
     "name": "stdout",
     "output_type": "stream",
     "text": [
      "\n",
      "Distribución de géneros por país en Netflix Titles:\n",
      "country            listed_in                                                        \n",
      ", France, Algeria  Dramas, Independent Movies, International Movies                     1\n",
      ", South Korea      International TV Shows, TV Dramas                                    1\n",
      "Argentina          Stand-Up Comedy                                                      8\n",
      "                   Crime TV Shows, International TV Shows, Spanish-Language TV Shows    6\n",
      "                   Dramas, International Movies                                         6\n",
      "                   Documentaries, International Movies, Sports Movies                   4\n",
      "                   Comedies, Cult Movies, International Movies                          2\n",
      "                   Documentaries, International Movies                                  2\n",
      "                   Dramas, Independent Movies, International Movies                     2\n",
      "                   Dramas, International Movies, Thrillers                              2\n",
      "Name: count, dtype: int64\n"
     ]
    }
   ],
   "source": [
    "#generos por país en Netflix Titles\n",
    "\n",
    "genres_by_country = df_titles.groupby('country')['listed_in'].value_counts().head(10)\n",
    "print(\"\\nDistribución de géneros por país en Netflix Titles:\")\n",
    "print(genres_by_country)\n"
   ]
  },
  {
   "cell_type": "markdown",
   "metadata": {},
   "source": [
    "Netflix Titles refleja una estrategia global al ofrecer una amplia diversidad de géneros que combinan elementos internacionales, mientras adapta contenido para satisfacer audiencias locales clave, como lo demuestra la fuerte presencia de géneros como Spanish-Language TV Shows y Stand-Up Comedy en Argentina. Además que la inclusión de géneros como documentales, películas deportivas y contenido de culto mantiene el esfuerzo de Netflix por captar audiencias específicas. Este enfoque mixto, que combina globalización y regionalización permite a Netflix fortalecer su atractivo tanto en mercados internacionales como en comunidades locales"
   ]
  },
  {
   "cell_type": "markdown",
   "metadata": {},
   "source": [
    "Unión de Datos"
   ]
  },
  {
   "cell_type": "code",
   "execution_count": null,
   "metadata": {},
   "outputs": [
    {
     "name": "stdout",
     "output_type": "stream",
     "text": [
      "   Unnamed: 0_x show_id     type                  title         director  \\\n",
      "0             0      s1    Movie   Dick Johnson Is Dead  Kirsten Johnson   \n",
      "1             1      s2  TV Show          Blood & Water      Desconocido   \n",
      "2             2      s3  TV Show              Ganglands  Julien Leclercq   \n",
      "3             3      s4  TV Show  Jailbirds New Orleans      Desconocido   \n",
      "4             4      s5  TV Show           Kota Factory      Desconocido   \n",
      "\n",
      "                                                cast          country  \\\n",
      "0                                   Cast Desconocido    United States   \n",
      "1  Ama Qamata, Khosi Ngema, Gail Mabalane, Thaban...     South Africa   \n",
      "2  Sami Bouajila, Tracy Gotoas, Samuel Jouy, Nabi...  Unknown Country   \n",
      "3                                   Cast Desconocido  Unknown Country   \n",
      "4  Mayur More, Jitendra Kumar, Ranjan Raj, Alam K...            India   \n",
      "\n",
      "           date_added  release_year rating          duration  \\\n",
      "0  September 25, 2021          2020  PG-13            90 min   \n",
      "1  September 24, 2021          2021  TV-MA         2 Seasons   \n",
      "2  September 24, 2021          2021  TV-MA  Unknown Duration   \n",
      "3  September 24, 2021          2021  TV-MA  Unknown Duration   \n",
      "4  September 24, 2021          2021  TV-MA         2 Seasons   \n",
      "\n",
      "                                           listed_in  \\\n",
      "0                                      Documentaries   \n",
      "1    International TV Shows, TV Dramas, TV Mysteries   \n",
      "2  Crime TV Shows, International TV Shows, TV Act...   \n",
      "3                             Docuseries, Reality TV   \n",
      "4  International TV Shows, Romantic TV Shows, TV ...   \n",
      "\n",
      "                                         description  Unnamed: 0_y  \\\n",
      "0  As her father nears the end of his life, filmm...         535.0   \n",
      "1  After crossing paths at a party, a Cape Town t...           NaN   \n",
      "2  To protect his family from a powerful drug lor...           NaN   \n",
      "3  Feuds, flirtations and toilet talk go down amo...           NaN   \n",
      "4  In a city of coaching centers known to train I...           NaN   \n",
      "\n",
      "                  Title        Genre         Premiere  Runtime  IMDB Score  \\\n",
      "0  Dick Johnson Is Dead  Documentary  October 2, 2020     90.0         7.5   \n",
      "1                   NaN          NaN              NaN      NaN         NaN   \n",
      "2                   NaN          NaN              NaN      NaN         NaN   \n",
      "3                   NaN          NaN              NaN      NaN         NaN   \n",
      "4                   NaN          NaN              NaN      NaN         NaN   \n",
      "\n",
      "  Language  \n",
      "0  English  \n",
      "1      NaN  \n",
      "2      NaN  \n",
      "3      NaN  \n",
      "4      NaN  \n"
     ]
    }
   ],
   "source": [
    "#Realizar la unión\n",
    "merged_df = pd.merge(df_titles, df_originals, left_on='title', right_on='Title', how='left')\n",
    "\n",
    "print(merged_df.head())\n"
   ]
  },
  {
   "cell_type": "code",
   "execution_count": 41,
   "metadata": {},
   "outputs": [
    {
     "name": "stdout",
     "output_type": "stream",
     "text": [
      "Producciones originales en Netflix Titles: 513\n",
      "Títulos no-originales en Netflix Titles: 8294\n"
     ]
    }
   ],
   "source": [
    "#Conteo de producciones originales y no-originales\n",
    "originals_count = merged_df['Title'].notnull().sum()\n",
    "acquired_count = merged_df['Title'].isnull().sum()\n",
    "\n",
    "print(f\"Producciones originales en Netflix Titles: {originals_count}\")\n",
    "print(f\"Títulos no-originales en Netflix Titles: {acquired_count}\")\n"
   ]
  },
  {
   "cell_type": "code",
   "execution_count": null,
   "metadata": {},
   "outputs": [
    {
     "name": "stdout",
     "output_type": "stream",
     "text": [
      "Porcentaje de producciones originales: 5.83%\n"
     ]
    }
   ],
   "source": [
    "total_titles = originals_count + acquired_count\n",
    "percentage_originals = (originals_count / total_titles) * 100\n",
    "\n",
    "print(f\"Porcentaje de producciones originales: {percentage_originals:.2f}%\")"
   ]
  },
  {
   "cell_type": "markdown",
   "metadata": {},
   "source": [
    "Este porcentaje bajo refleja que las producciones originales son selectivas, probablemente orientadas a diferenciar la marca Netflix y atraer audiencias específicas.\n",
    "Aunque representan una pequeña parte del catálogo, suelen recibir un mayor enfoque en marketing y promoción\n",
    "El 94.17% restante del catálogo corresponde a contenido adquirido.\n",
    "Esto muestra que Netflix complementa sus producciones originales con adquisiciones para ofrecer un catálogo amplio y diverso que pueda satisfacer diferentes nichos de audiencia"
   ]
  },
  {
   "cell_type": "code",
   "execution_count": 42,
   "metadata": {},
   "outputs": [
    {
     "name": "stdout",
     "output_type": "stream",
     "text": [
      "Puntuación IMDB promedio de producciones originales: 6.21\n",
      "Puntuación IMDB promedio de títulos no-originales: nan\n"
     ]
    }
   ],
   "source": [
    "# Puntuación IMDB promedio de originales\n",
    "originals_imdb_mean = merged_df[merged_df['Title'].notnull()]['IMDB Score'].mean()\n",
    "\n",
    "# Puntuación IMDB promedio de no-originales\n",
    "acquired_imdb_mean = merged_df[merged_df['Title'].isnull()]['IMDB Score'].mean()\n",
    "\n",
    "print(f\"Puntuación IMDB promedio de producciones originales: {originals_imdb_mean:.2f}\")\n",
    "print(f\"Puntuación IMDB promedio de títulos no-originales: {acquired_imdb_mean:.2f}\")\n"
   ]
  },
  {
   "cell_type": "markdown",
   "metadata": {},
   "source": [
    "La calificación promedio IMDB de las producciones originales de Netflix es 6.21, lo que indica una recepción moderada por parte de los espectadores, sugiriendo que aunque las producciones originales son estratégicamente seleccionadas, no destacan como consistentemente sobresalientes en términos de calidad percibida. Por otro lado, la falta de datos para calcular la puntuación promedio de los títulos no originales (NaN) sugiere que este grupo carece de calificaciones en la base de datos utilizada, lo que limita una comparación directa entre producciones originales y adquiridas. Esto podría deberse a que las calificaciones de IMDB no se recopilan para todo el catálogo adquirido, o que estas producciones no tienen suficiente visibilidad para recibir puntuaciones. Para hacer este calculo necesitariamos datos de la columna IMDB score que, en este caso no lo tienen los titulos no-originales."
   ]
  },
  {
   "cell_type": "code",
   "execution_count": 70,
   "metadata": {},
   "outputs": [
    {
     "name": "stdout",
     "output_type": "stream",
     "text": [
      "\n",
      "Puntuación IMDB promedio por país:\n",
      "country\n",
      "Argentina                                 6.420000\n",
      "Australia, United States                  7.600000\n",
      "Austria                                   6.850000\n",
      "Belgium, Netherlands                      7.100000\n",
      "Belgium, United Kingdom, United States    5.300000\n",
      "                                            ...   \n",
      "United States, United Kingdom             8.200000\n",
      "United States, United Kingdom, Canada     6.700000\n",
      "United States, United Kingdom, Germany    6.600000\n",
      "United States, United Kingdom, India      7.800000\n",
      "Unknown Country                           6.421429\n",
      "Name: IMDB Score, Length: 82, dtype: float64\n"
     ]
    }
   ],
   "source": [
    "# Puntuación IMDB promedio por país en producciones originales\n",
    "imdb_by_country = merged_df[merged_df['Title'].notnull()].groupby('country')['IMDB Score'].mean()\n",
    "\n",
    "print(\"\\nPuntuación IMDB promedio por país:\")\n",
    "print(imdb_by_country)\n"
   ]
  },
  {
   "cell_type": "markdown",
   "metadata": {},
   "source": [
    "Las coproducciones entre Estados Unidos y otros países, especialmente el Reino Unido y la India, tienden a recibir puntuaciones IMDB más altas, lo que podría deberse a mayores presupuestos o alcance global.\n",
    "Los países con puntuaciones más bajas, como Belgium, United Kingdom, United States (5.3), podrían reflejar experimentos menos exitosos en términos de recepción.\n",
    "Netflix parece tener un impacto global significativo, con representaciones variadas en las puntuaciones.\n"
   ]
  },
  {
   "cell_type": "code",
   "execution_count": 71,
   "metadata": {},
   "outputs": [
    {
     "name": "stdout",
     "output_type": "stream",
     "text": [
      "\n",
      "Producciones originales mejor calificadas:\n",
      "                                            title  IMDB Score  \\\n",
      "1886     David Attenborough: A Life on Our Planet         9.0   \n",
      "4293                      Springsteen on Broadway         8.5   \n",
      "5893  Winter on Fire: Ukraine's Fight for Freedom         8.4   \n",
      "3386                       Dancing with the Birds         8.3   \n",
      "5152                       Cuba and the Cameraman         8.3   \n",
      "3273                                        Klaus         8.2   \n",
      "1857        The Three Deaths of Marisela Escobedo         8.2   \n",
      "1171                                   Seaspiracy         8.2   \n",
      "2097                               Rising Phoenix         8.1   \n",
      "2038                           My Octopus Teacher         8.1   \n",
      "\n",
      "                                     Genre  \\\n",
      "1886                           Documentary   \n",
      "4293                          One-man show   \n",
      "5893                           Documentary   \n",
      "3386                           Documentary   \n",
      "5152                           Documentary   \n",
      "3273  Animation/Christmas/Comedy/Adventure   \n",
      "1857                           Documentary   \n",
      "1171                           Documentary   \n",
      "2097                           Documentary   \n",
      "2038                           Documentary   \n",
      "\n",
      "                                     country  \n",
      "1886           United States, United Kingdom  \n",
      "4293                           United States  \n",
      "5893  United Kingdom, Ukraine, United States  \n",
      "3386                           United States  \n",
      "5152                           United States  \n",
      "3273                   Spain, United Kingdom  \n",
      "1857                                  Mexico  \n",
      "1171                           United States  \n",
      "2097                          United Kingdom  \n",
      "2038                            South Africa  \n"
     ]
    }
   ],
   "source": [
    "# Títulos originales mejor calificados\n",
    "top_originals = merged_df[merged_df['Title'].notnull()].sort_values(by='IMDB Score', ascending=False).head(10)\n",
    "\n",
    "print(\"\\nProducciones originales mejor calificadas:\")\n",
    "print(top_originals[['title', 'IMDB Score', 'Genre', 'country']])"
   ]
  },
  {
   "cell_type": "markdown",
   "metadata": {},
   "source": [
    "Netflix ha logrado producir contenido original de alta calidad, especialmente en el género documental, que domina las producciones mejor calificadas.\n",
    "La diversidad geográfica y de temáticas sugiere una estrategia intencionada para abarcar tanto el mercado global como temas de relevancia universal.\n",
    "Este éxito en producciones originales fortalece la marca Netflix como una plataforma que prioriza la calidad en lugar de la cantidad en sus contenidos originales."
   ]
  },
  {
   "cell_type": "markdown",
   "metadata": {},
   "source": [
    "Uso de loc_iloc"
   ]
  },
  {
   "cell_type": "code",
   "execution_count": 6,
   "metadata": {},
   "outputs": [
    {
     "name": "stdout",
     "output_type": "stream",
     "text": [
      "   Unnamed: 0_x show_id     type                  title         director  \\\n",
      "0             0      s1    Movie   Dick Johnson Is Dead  Kirsten Johnson   \n",
      "1             1      s2  TV Show          Blood & Water              NaN   \n",
      "2             2      s3  TV Show              Ganglands  Julien Leclercq   \n",
      "3             3      s4  TV Show  Jailbirds New Orleans              NaN   \n",
      "4             4      s5  TV Show           Kota Factory              NaN   \n",
      "\n",
      "                                                cast        country  \\\n",
      "0                                                NaN  United States   \n",
      "1  Ama Qamata, Khosi Ngema, Gail Mabalane, Thaban...   South Africa   \n",
      "2  Sami Bouajila, Tracy Gotoas, Samuel Jouy, Nabi...            NaN   \n",
      "3                                                NaN            NaN   \n",
      "4  Mayur More, Jitendra Kumar, Ranjan Raj, Alam K...          India   \n",
      "\n",
      "           date_added  release_year rating   duration  \\\n",
      "0  September 25, 2021          2020  PG-13     90 min   \n",
      "1  September 24, 2021          2021  TV-MA  2 Seasons   \n",
      "2  September 24, 2021          2021  TV-MA        NaN   \n",
      "3  September 24, 2021          2021  TV-MA        NaN   \n",
      "4  September 24, 2021          2021  TV-MA  2 Seasons   \n",
      "\n",
      "                                           listed_in  \\\n",
      "0                                      Documentaries   \n",
      "1    International TV Shows, TV Dramas, TV Mysteries   \n",
      "2  Crime TV Shows, International TV Shows, TV Act...   \n",
      "3                             Docuseries, Reality TV   \n",
      "4  International TV Shows, Romantic TV Shows, TV ...   \n",
      "\n",
      "                                         description  Unnamed: 0_y  \\\n",
      "0  As her father nears the end of his life, filmm...         535.0   \n",
      "1  After crossing paths at a party, a Cape Town t...           NaN   \n",
      "2  To protect his family from a powerful drug lor...           NaN   \n",
      "3  Feuds, flirtations and toilet talk go down amo...           NaN   \n",
      "4  In a city of coaching centers known to train I...           NaN   \n",
      "\n",
      "                  Title        Genre         Premiere  Runtime  IMDB Score  \\\n",
      "0  Dick Johnson Is Dead  Documentary  October 2, 2020     90.0         7.5   \n",
      "1                   NaN          NaN              NaN      NaN         NaN   \n",
      "2                   NaN          NaN              NaN      NaN         NaN   \n",
      "3                   NaN          NaN              NaN      NaN         NaN   \n",
      "4                   NaN          NaN              NaN      NaN         NaN   \n",
      "\n",
      "  Language  \n",
      "0  English  \n",
      "1      NaN  \n",
      "2      NaN  \n",
      "3      NaN  \n",
      "4      NaN  \n"
     ]
    }
   ],
   "source": [
    "import pandas as pd\n",
    "\n",
    "df_originals = pd.read_csv('C:/Users/Daniella Guerra/Desktop/Python - Pandas/Netflix_Project/datos/netflix_originals.csv')\n",
    "df_titles = pd.read_csv('C:/Users/Daniella Guerra/Desktop/Python - Pandas/Netflix_Project/datos/netflix_titles.csv')\n",
    "\n",
    "# Realizar la unión\n",
    "merged_df = pd.merge(df_titles, df_originals, left_on='title', right_on='Title', how='left')\n",
    "\n",
    "# Verificar el resultado\n",
    "print(merged_df.head())"
   ]
  },
  {
   "cell_type": "code",
   "execution_count": null,
   "metadata": {},
   "outputs": [
    {
     "name": "stdout",
     "output_type": "stream",
     "text": [
      "      Unnamed: 0_x show_id   type                             title  \\\n",
      "0                0      s1  Movie              Dick Johnson Is Dead   \n",
      "6                6      s7  Movie  My Little Pony: A New Generation   \n",
      "7                7      s8  Movie                           Sankofa   \n",
      "9                9     s10  Movie                      The Starling   \n",
      "12              12     s13  Movie                      Je Suis Karl   \n",
      "...            ...     ...    ...                               ...   \n",
      "8801          8801   s8802  Movie                           Zinzana   \n",
      "8802          8802   s8803  Movie                            Zodiac   \n",
      "8804          8804   s8805  Movie                        Zombieland   \n",
      "8805          8805   s8806  Movie                              Zoom   \n",
      "8806          8806   s8807  Movie                            Zubaan   \n",
      "\n",
      "                           director  \\\n",
      "0                   Kirsten Johnson   \n",
      "6     Robert Cullen, José Luis Ucha   \n",
      "7                      Haile Gerima   \n",
      "9                    Theodore Melfi   \n",
      "12              Christian Schwochow   \n",
      "...                             ...   \n",
      "8801                Majid Al Ansari   \n",
      "8802                  David Fincher   \n",
      "8804                Ruben Fleischer   \n",
      "8805                   Peter Hewitt   \n",
      "8806                    Mozez Singh   \n",
      "\n",
      "                                                   cast  \\\n",
      "0                                                   NaN   \n",
      "6     Vanessa Hudgens, Kimiko Glenn, James Marsden, ...   \n",
      "7     Kofi Ghanaba, Oyafunmike Ogunlano, Alexandra D...   \n",
      "9     Melissa McCarthy, Chris O'Dowd, Kevin Kline, T...   \n",
      "12    Luna Wedler, Jannis Niewöhner, Milan Peschel, ...   \n",
      "...                                                 ...   \n",
      "8801  Ali Suliman, Saleh Bakri, Yasa, Ali Al-Jabri, ...   \n",
      "8802  Mark Ruffalo, Jake Gyllenhaal, Robert Downey J...   \n",
      "8804  Jesse Eisenberg, Woody Harrelson, Emma Stone, ...   \n",
      "8805  Tim Allen, Courteney Cox, Chevy Chase, Kate Ma...   \n",
      "8806  Vicky Kaushal, Sarah-Jane Dias, Raaghav Chanan...   \n",
      "\n",
      "                                                country          date_added  \\\n",
      "0                                         United States  September 25, 2021   \n",
      "6                                                   NaN  September 24, 2021   \n",
      "7     United States, Ghana, Burkina Faso, United Kin...  September 24, 2021   \n",
      "9                                         United States  September 24, 2021   \n",
      "12                              Germany, Czech Republic  September 23, 2021   \n",
      "...                                                 ...                 ...   \n",
      "8801                       United Arab Emirates, Jordan       March 9, 2016   \n",
      "8802                                      United States   November 20, 2019   \n",
      "8804                                      United States    November 1, 2019   \n",
      "8805                                      United States    January 11, 2020   \n",
      "8806                                              India       March 2, 2019   \n",
      "\n",
      "      release_year rating duration  \\\n",
      "0             2020  PG-13   90 min   \n",
      "6             2021     PG      NaN   \n",
      "7             1993  TV-MA  125 min   \n",
      "9             2021  PG-13  104 min   \n",
      "12            2021  TV-MA  127 min   \n",
      "...            ...    ...      ...   \n",
      "8801          2015  TV-MA      NaN   \n",
      "8802          2007      R  158 min   \n",
      "8804          2009      R      NaN   \n",
      "8805          2006     PG      NaN   \n",
      "8806          2015  TV-14  111 min   \n",
      "\n",
      "                                             listed_in  \\\n",
      "0                                        Documentaries   \n",
      "6                             Children & Family Movies   \n",
      "7     Dramas, Independent Movies, International Movies   \n",
      "9                                     Comedies, Dramas   \n",
      "12                        Dramas, International Movies   \n",
      "...                                                ...   \n",
      "8801           Dramas, International Movies, Thrillers   \n",
      "8802                    Cult Movies, Dramas, Thrillers   \n",
      "8804                           Comedies, Horror Movies   \n",
      "8805                Children & Family Movies, Comedies   \n",
      "8806    Dramas, International Movies, Music & Musicals   \n",
      "\n",
      "                                            description  Unnamed: 0_y  \\\n",
      "0     As her father nears the end of his life, filmm...         535.0   \n",
      "6     Equestria's divided. But a bright-eyed hero be...           NaN   \n",
      "7     On a photo shoot in Ghana, an American model s...           NaN   \n",
      "9     A woman adjusting to life after a loss contend...           NaN   \n",
      "12    After most of her family is murdered in a terr...           NaN   \n",
      "...                                                 ...           ...   \n",
      "8801  Recovering alcoholic Talal wakes up inside a s...           NaN   \n",
      "8802  A political cartoonist, a crime reporter and a...           NaN   \n",
      "8804  Looking to survive in a world taken over by zo...           NaN   \n",
      "8805  Dragged from civilian life, a former superhero...           NaN   \n",
      "8806  A scrappy but poor boy worms his way into a ty...           NaN   \n",
      "\n",
      "                     Title        Genre         Premiere  Runtime  IMDB Score  \\\n",
      "0     Dick Johnson Is Dead  Documentary  October 2, 2020     90.0         7.5   \n",
      "6                      NaN          NaN              NaN      NaN         NaN   \n",
      "7                      NaN          NaN              NaN      NaN         NaN   \n",
      "9                      NaN          NaN              NaN      NaN         NaN   \n",
      "12                     NaN          NaN              NaN      NaN         NaN   \n",
      "...                    ...          ...              ...      ...         ...   \n",
      "8801                   NaN          NaN              NaN      NaN         NaN   \n",
      "8802                   NaN          NaN              NaN      NaN         NaN   \n",
      "8804                   NaN          NaN              NaN      NaN         NaN   \n",
      "8805                   NaN          NaN              NaN      NaN         NaN   \n",
      "8806                   NaN          NaN              NaN      NaN         NaN   \n",
      "\n",
      "     Language  \n",
      "0     English  \n",
      "6         NaN  \n",
      "7         NaN  \n",
      "9         NaN  \n",
      "12        NaN  \n",
      "...       ...  \n",
      "8801      NaN  \n",
      "8802      NaN  \n",
      "8804      NaN  \n",
      "8805      NaN  \n",
      "8806      NaN  \n",
      "\n",
      "[6131 rows x 20 columns]\n"
     ]
    }
   ],
   "source": [
    "\n",
    "movies = merged_df.loc[merged_df['type'] == 'Movie']\n",
    "print(movies)\n"
   ]
  },
  {
   "cell_type": "code",
   "execution_count": 8,
   "metadata": {},
   "outputs": [
    {
     "name": "stdout",
     "output_type": "stream",
     "text": [
      "                      title   duration\n",
      "1             Blood & Water  2 Seasons\n",
      "2                 Ganglands        NaN\n",
      "3     Jailbirds New Orleans        NaN\n",
      "4              Kota Factory  2 Seasons\n",
      "5             Midnight Mass        NaN\n",
      "...                     ...        ...\n",
      "8795        Yu-Gi-Oh! Arc-V  2 Seasons\n",
      "8796             Yunus Emre  2 Seasons\n",
      "8797              Zak Storm        NaN\n",
      "8800     Zindagi Gulzar Hai        NaN\n",
      "8803            Zombie Dumb  2 Seasons\n",
      "\n",
      "[2676 rows x 2 columns]\n"
     ]
    }
   ],
   "source": [
    "tv_shows = merged_df.loc[merged_df['type'] == 'TV Show', ['title', 'duration']]\n",
    "print(tv_shows)\n"
   ]
  },
  {
   "cell_type": "code",
   "execution_count": 9,
   "metadata": {},
   "outputs": [
    {
     "name": "stdout",
     "output_type": "stream",
     "text": [
      "                                 title                       director\n",
      "0                 Dick Johnson Is Dead                Kirsten Johnson\n",
      "6     My Little Pony: A New Generation  Robert Cullen, José Luis Ucha\n",
      "7                              Sankofa                   Haile Gerima\n",
      "9                         The Starling                 Theodore Melfi\n",
      "12                        Je Suis Karl            Christian Schwochow\n",
      "...                                ...                            ...\n",
      "8801                           Zinzana                Majid Al Ansari\n",
      "8802                            Zodiac                  David Fincher\n",
      "8804                        Zombieland                Ruben Fleischer\n",
      "8805                              Zoom                   Peter Hewitt\n",
      "8806                            Zubaan                    Mozez Singh\n",
      "\n",
      "[6131 rows x 2 columns]\n"
     ]
    }
   ],
   "source": [
    "movies_with_director = merged_df.loc[merged_df['type'] == 'Movie', ['title', 'director']]\n",
    "print(movies_with_director)\n"
   ]
  },
  {
   "cell_type": "code",
   "execution_count": 10,
   "metadata": {},
   "outputs": [
    {
     "name": "stdout",
     "output_type": "stream",
     "text": [
      "                                                  title  \\\n",
      "21                               Resurrection: Ertugrul   \n",
      "37                                          Angry Birds   \n",
      "73                                         King of Boys   \n",
      "94                                            Show Dogs   \n",
      "96    If I Leave Here Tomorrow: A Film About Lynyrd ...   \n",
      "...                                                 ...   \n",
      "8732                                      White Chamber   \n",
      "8743                                           Wildlife   \n",
      "8774                                          يوم الدين   \n",
      "8775                                    Yeh Meri Family   \n",
      "8803                                        Zombie Dumb   \n",
      "\n",
      "                                              listed_in  \n",
      "21    International TV Shows, TV Action & Adventure,...  \n",
      "37                                Kids' TV, TV Comedies  \n",
      "73                         Dramas, International Movies  \n",
      "94                   Children & Family Movies, Comedies  \n",
      "96                      Documentaries, Music & Musicals  \n",
      "...                                                 ...  \n",
      "8732                        Sci-Fi & Fantasy, Thrillers  \n",
      "8743                         Dramas, Independent Movies  \n",
      "8774   Dramas, Independent Movies, International Movies  \n",
      "8775                International TV Shows, TV Comedies  \n",
      "8803             Kids' TV, Korean TV Shows, TV Comedies  \n",
      "\n",
      "[1147 rows x 2 columns]\n"
     ]
    }
   ],
   "source": [
    "titles_2018 = merged_df.loc[merged_df['release_year'] == 2018, ['title', 'listed_in']]\n",
    "print(titles_2018)\n"
   ]
  },
  {
   "cell_type": "code",
   "execution_count": 11,
   "metadata": {},
   "outputs": [
    {
     "name": "stdout",
     "output_type": "stream",
     "text": [
      "                                    title\n",
      "1                           Blood & Water\n",
      "3                   Jailbirds New Orleans\n",
      "4                            Kota Factory\n",
      "10    Vendetta: Truth, Lies and The Mafia\n",
      "14        Crime Stories: India Detectives\n",
      "...                                   ...\n",
      "8795                      Yu-Gi-Oh! Arc-V\n",
      "8796                           Yunus Emre\n",
      "8797                            Zak Storm\n",
      "8800                   Zindagi Gulzar Hai\n",
      "8803                          Zombie Dumb\n",
      "\n",
      "[2634 rows x 1 columns]\n"
     ]
    }
   ],
   "source": [
    "no_director = merged_df.loc[merged_df['director'].isna(), ['title']]\n",
    "print(no_director)\n"
   ]
  },
  {
   "cell_type": "markdown",
   "metadata": {},
   "source": [
    "Filtrado  con iloc"
   ]
  },
  {
   "cell_type": "code",
   "execution_count": 12,
   "metadata": {},
   "outputs": [
    {
     "name": "stdout",
     "output_type": "stream",
     "text": [
      "      type         director        country\n",
      "0    Movie  Kirsten Johnson  United States\n",
      "1  TV Show              NaN   South Africa\n",
      "2  TV Show  Julien Leclercq            NaN\n",
      "3  TV Show              NaN            NaN\n",
      "4  TV Show              NaN          India\n"
     ]
    }
   ],
   "source": [
    "first_5 = merged_df.iloc[:5, [2, 4, 6]]  # Ajusta los índices según la posición de las columnas\n",
    "print(first_5)\n"
   ]
  },
  {
   "cell_type": "code",
   "execution_count": 13,
   "metadata": {},
   "outputs": [
    {
     "name": "stdout",
     "output_type": "stream",
     "text": [
      "         type                                       listed_in\n",
      "8802    Movie                  Cult Movies, Dramas, Thrillers\n",
      "8803  TV Show          Kids' TV, Korean TV Shows, TV Comedies\n",
      "8804    Movie                         Comedies, Horror Movies\n",
      "8805    Movie              Children & Family Movies, Comedies\n",
      "8806    Movie  Dramas, International Movies, Music & Musicals\n"
     ]
    }
   ],
   "source": [
    "last_5 = merged_df.iloc[-5:, [2, 11]]  # Ajusta los índices según la posición de las columnas\n",
    "print(last_5)\n"
   ]
  },
  {
   "cell_type": "code",
   "execution_count": 14,
   "metadata": {},
   "outputs": [
    {
     "name": "stdout",
     "output_type": "stream",
     "text": [
      "  show_id     type                             title  \\\n",
      "0      s1    Movie              Dick Johnson Is Dead   \n",
      "1      s2  TV Show                     Blood & Water   \n",
      "2      s3  TV Show                         Ganglands   \n",
      "3      s4  TV Show             Jailbirds New Orleans   \n",
      "4      s5  TV Show                      Kota Factory   \n",
      "5      s6  TV Show                     Midnight Mass   \n",
      "6      s7    Movie  My Little Pony: A New Generation   \n",
      "7      s8    Movie                           Sankofa   \n",
      "8      s9  TV Show     The Great British Baking Show   \n",
      "9     s10    Movie                      The Starling   \n",
      "\n",
      "                        director  \n",
      "0                Kirsten Johnson  \n",
      "1                            NaN  \n",
      "2                Julien Leclercq  \n",
      "3                            NaN  \n",
      "4                            NaN  \n",
      "5                  Mike Flanagan  \n",
      "6  Robert Cullen, José Luis Ucha  \n",
      "7                   Haile Gerima  \n",
      "8                Andy Devonshire  \n",
      "9                 Theodore Melfi  \n"
     ]
    }
   ],
   "source": [
    "first_10_columns_2_to_5 = merged_df.iloc[:10, 1:5]\n",
    "print(first_10_columns_2_to_5)\n"
   ]
  },
  {
   "cell_type": "code",
   "execution_count": 15,
   "metadata": {},
   "outputs": [
    {
     "name": "stdout",
     "output_type": "stream",
     "text": [
      "         type         director                       country\n",
      "8800  TV Show              NaN                      Pakistan\n",
      "8801    Movie  Majid Al Ansari  United Arab Emirates, Jordan\n",
      "8802    Movie    David Fincher                 United States\n",
      "8803  TV Show              NaN                           NaN\n",
      "8804    Movie  Ruben Fleischer                 United States\n",
      "8805    Movie     Peter Hewitt                 United States\n",
      "8806    Movie      Mozez Singh                         India\n"
     ]
    }
   ],
   "source": [
    "last_7_columns = merged_df.iloc[-7:, [2, 4, 6]]  # Ajusta los índices según la posición de las columnas\n",
    "print(last_7_columns)\n"
   ]
  },
  {
   "cell_type": "code",
   "execution_count": 16,
   "metadata": {},
   "outputs": [
    {
     "name": "stdout",
     "output_type": "stream",
     "text": [
      "    Unnamed: 0_x show_id     type  \\\n",
      "15            15     s16  TV Show   \n",
      "16            16     s17    Movie   \n",
      "17            17     s18  TV Show   \n",
      "18            18     s19    Movie   \n",
      "19            19     s20  TV Show   \n",
      "20            20     s21  TV Show   \n",
      "21            21     s22  TV Show   \n",
      "22            22     s23    Movie   \n",
      "23            23     s24    Movie   \n",
      "24            24     s25    Movie   \n",
      "25            25     s26  TV Show   \n",
      "\n",
      "                                                title  \n",
      "15                                  Dear White People  \n",
      "16  Europe's Most Dangerous Man: Otto Skorzeny in ...  \n",
      "17                                    Falsa identidad  \n",
      "18                                          Intrusion  \n",
      "19                                             Jaguar  \n",
      "20    Monsters Inside: The 24 Faces of Billy Milligan  \n",
      "21                             Resurrection: Ertugrul  \n",
      "22                                    Avvai Shanmughi  \n",
      "23       Go! Go! Cory Carson: Chrissy Takes the Wheel  \n",
      "24                                              Jeans  \n",
      "25                               Love on the Spectrum  \n"
     ]
    }
   ],
   "source": [
    "rows_15_to_25_columns_1_to_4 = merged_df.iloc[15:26, :4]\n",
    "print(rows_15_to_25_columns_1_to_4)\n"
   ]
  },
  {
   "cell_type": "code",
   "execution_count": 17,
   "metadata": {},
   "outputs": [
    {
     "name": "stdout",
     "output_type": "stream",
     "text": [
      "    Unnamed: 0_x show_id     type  \\\n",
      "15            15     s16  TV Show   \n",
      "16            16     s17    Movie   \n",
      "17            17     s18  TV Show   \n",
      "18            18     s19    Movie   \n",
      "19            19     s20  TV Show   \n",
      "20            20     s21  TV Show   \n",
      "21            21     s22  TV Show   \n",
      "22            22     s23    Movie   \n",
      "23            23     s24    Movie   \n",
      "24            24     s25    Movie   \n",
      "25            25     s26  TV Show   \n",
      "\n",
      "                                                title  \n",
      "15                                  Dear White People  \n",
      "16  Europe's Most Dangerous Man: Otto Skorzeny in ...  \n",
      "17                                    Falsa identidad  \n",
      "18                                          Intrusion  \n",
      "19                                             Jaguar  \n",
      "20    Monsters Inside: The 24 Faces of Billy Milligan  \n",
      "21                             Resurrection: Ertugrul  \n",
      "22                                    Avvai Shanmughi  \n",
      "23       Go! Go! Cory Carson: Chrissy Takes the Wheel  \n",
      "24                                              Jeans  \n",
      "25                               Love on the Spectrum  \n"
     ]
    }
   ],
   "source": [
    "rows_15_to_25_columns_1_to_4 = merged_df.iloc[15:26, :4]\n",
    "print(rows_15_to_25_columns_1_to_4)\n"
   ]
  }
 ],
 "metadata": {
  "kernelspec": {
   "display_name": "Python 3",
   "language": "python",
   "name": "python3"
  },
  "language_info": {
   "codemirror_mode": {
    "name": "ipython",
    "version": 3
   },
   "file_extension": ".py",
   "mimetype": "text/x-python",
   "name": "python",
   "nbconvert_exporter": "python",
   "pygments_lexer": "ipython3",
   "version": "3.11.9"
  }
 },
 "nbformat": 4,
 "nbformat_minor": 2
}
