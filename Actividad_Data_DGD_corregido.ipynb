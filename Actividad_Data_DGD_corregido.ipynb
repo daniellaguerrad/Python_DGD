{
 "cells": [
  {
   "cell_type": "markdown",
   "metadata": {},
   "source": [
    "Proyecto Nextflix"
   ]
  },
  {
   "cell_type": "markdown",
   "metadata": {},
   "source": [
    "Carga de datos:"
   ]
  },
  {
   "cell_type": "code",
   "execution_count": 37,
   "metadata": {},
   "outputs": [
    {
     "name": "stdout",
     "output_type": "stream",
     "text": [
      "c:\\Users\\Daniella Guerra\\da-octubre-24\\da-octubre-24\n"
     ]
    }
   ],
   "source": [
    "import os\n",
    "print(os.getcwd())\n"
   ]
  },
  {
   "cell_type": "code",
   "execution_count": null,
   "metadata": {},
   "outputs": [
    {
     "name": "stdout",
     "output_type": "stream",
     "text": [
      "   Unnamed: 0            Title                  Genre           Premiere  \\\n",
      "0           0  Enter the Anime            Documentary     August 5, 2019   \n",
      "1           1      Dark Forces               Thriller    August 21, 2020   \n",
      "2           2          The App  Science fiction/Drama  December 26, 2019   \n",
      "3           3   The Open House        Horror thriller   January 19, 2018   \n",
      "4           4      Kaali Khuhi                Mystery   October 30, 2020   \n",
      "\n",
      "   Runtime  IMDB Score          Language  \n",
      "0       58         2.5  English/Japanese  \n",
      "1       81         2.6           Spanish  \n",
      "2       79         2.6           Italian  \n",
      "3       94         3.2           English  \n",
      "4       90         3.4             Hindi  \n",
      "   Unnamed: 0 show_id     type                  title         director  \\\n",
      "0           0      s1    Movie   Dick Johnson Is Dead  Kirsten Johnson   \n",
      "1           1      s2  TV Show          Blood & Water              NaN   \n",
      "2           2      s3  TV Show              Ganglands  Julien Leclercq   \n",
      "3           3      s4  TV Show  Jailbirds New Orleans              NaN   \n",
      "4           4      s5  TV Show           Kota Factory              NaN   \n",
      "\n",
      "                                                cast        country  \\\n",
      "0                                                NaN  United States   \n",
      "1  Ama Qamata, Khosi Ngema, Gail Mabalane, Thaban...   South Africa   \n",
      "2  Sami Bouajila, Tracy Gotoas, Samuel Jouy, Nabi...            NaN   \n",
      "3                                                NaN            NaN   \n",
      "4  Mayur More, Jitendra Kumar, Ranjan Raj, Alam K...          India   \n",
      "\n",
      "           date_added  release_year rating   duration  \\\n",
      "0  September 25, 2021          2020  PG-13     90 min   \n",
      "1  September 24, 2021          2021  TV-MA  2 Seasons   \n",
      "2  September 24, 2021          2021  TV-MA        NaN   \n",
      "3  September 24, 2021          2021  TV-MA        NaN   \n",
      "4  September 24, 2021          2021  TV-MA  2 Seasons   \n",
      "\n",
      "                                           listed_in  \\\n",
      "0                                      Documentaries   \n",
      "1    International TV Shows, TV Dramas, TV Mysteries   \n",
      "2  Crime TV Shows, International TV Shows, TV Act...   \n",
      "3                             Docuseries, Reality TV   \n",
      "4  International TV Shows, Romantic TV Shows, TV ...   \n",
      "\n",
      "                                         description  \n",
      "0  As her father nears the end of his life, filmm...  \n",
      "1  After crossing paths at a party, a Cape Town t...  \n",
      "2  To protect his family from a powerful drug lor...  \n",
      "3  Feuds, flirtations and toilet talk go down amo...  \n",
      "4  In a city of coaching centers known to train I...  \n"
     ]
    }
   ],
   "source": [
    "import pandas as pd\n",
    "\n",
    "df_originals = pd.read_csv('C:/Users/Daniella Guerra/Desktop/Python - Pandas/Netflix_Project/datos/netflix_originals.csv')\n",
    "df_titles = pd.read_csv('C:/Users/Daniella Guerra/Desktop/Python - Pandas/Netflix_Project/datos/netflix_titles.csv')\n",
    "\n",
    "# Verificar las primeras filas para confirmar la carga\n",
    "print(df_originals.head())\n",
    "print(df_titles.head())\n"
   ]
  },
  {
   "cell_type": "code",
   "execution_count": 5,
   "metadata": {},
   "outputs": [
    {
     "name": "stdout",
     "output_type": "stream",
     "text": [
      "       Unnamed: 0     Runtime  IMDB Score\n",
      "count  513.000000  513.000000  513.000000\n",
      "mean   280.984405   94.674464    6.210916\n",
      "std    166.445537   26.648121    0.968850\n",
      "min      0.000000    4.000000    2.500000\n",
      "25%    137.000000   87.000000    5.600000\n",
      "50%    277.000000   97.000000    6.300000\n",
      "75%    422.000000  108.000000    6.900000\n",
      "max    583.000000  209.000000    9.000000\n",
      "        Unnamed: 0  release_year\n",
      "count  8807.000000   8807.000000\n",
      "mean   4403.000000   2014.180198\n",
      "std    2542.506244      8.819312\n",
      "min       0.000000   1925.000000\n",
      "25%    2201.500000   2013.000000\n",
      "50%    4403.000000   2017.000000\n",
      "75%    6604.500000   2019.000000\n",
      "max    8806.000000   2021.000000\n"
     ]
    }
   ],
   "source": [
    "print(df_originals.describe())\n",
    "print(df_titles.describe())\n"
   ]
  },
  {
   "cell_type": "markdown",
   "metadata": {},
   "source": [
    "la media djhdnbfjubkdrfv"
   ]
  },
  {
   "cell_type": "code",
   "execution_count": 6,
   "metadata": {},
   "outputs": [
    {
     "name": "stdout",
     "output_type": "stream",
     "text": [
      "Unnamed: 0    0\n",
      "Title         0\n",
      "Genre         0\n",
      "Premiere      0\n",
      "Runtime       0\n",
      "IMDB Score    0\n",
      "Language      0\n",
      "dtype: int64\n",
      "Unnamed: 0         0\n",
      "show_id            0\n",
      "type               0\n",
      "title              0\n",
      "director        2634\n",
      "cast             825\n",
      "country          831\n",
      "date_added        10\n",
      "release_year       0\n",
      "rating             4\n",
      "duration        4813\n",
      "listed_in          0\n",
      "description        0\n",
      "dtype: int64\n"
     ]
    }
   ],
   "source": [
    "print(df_originals.isnull().sum())\n",
    "print(df_titles.isnull().sum())\n",
    "\n"
   ]
  },
  {
   "cell_type": "code",
   "execution_count": 8,
   "metadata": {},
   "outputs": [
    {
     "name": "stdout",
     "output_type": "stream",
     "text": [
      "0\n",
      "0\n"
     ]
    }
   ],
   "source": [
    "print(df_originals.duplicated().sum())\n",
    "print(df_titles.duplicated().sum())\n"
   ]
  },
  {
   "cell_type": "code",
   "execution_count": 9,
   "metadata": {},
   "outputs": [
    {
     "name": "stdout",
     "output_type": "stream",
     "text": [
      "['Documentary' 'Thriller' 'Science fiction/Drama' 'Horror thriller'\n",
      " 'Mystery' 'Action' 'Comedy' 'Heist film/Thriller'\n",
      " 'Musical/Western/Fantasy' 'Drama' 'Romantic comedy' 'Action comedy'\n",
      " 'Horror anthology' 'Political thriller' 'Superhero-Comedy' 'Horror'\n",
      " 'Romance drama' 'Anime / Short' 'Superhero' 'Heist' 'Western'\n",
      " 'Animation/Superhero' 'Family film' 'Action-thriller' 'Teen comedy-drama'\n",
      " 'Romantic drama' 'Animation' 'Aftershow / Interview'\n",
      " 'Science fiction adventure' 'Science fiction' 'Comedy-drama'\n",
      " 'Comedy/Fantasy/Family' 'Action/Comedy' 'Action/Science fiction'\n",
      " 'Romantic teenage drama' 'Comedy / Musical' 'Musical' 'Variety show'\n",
      " 'Science fiction/Mystery' 'Psychological thriller drama'\n",
      " 'Adventure/Comedy' 'Black comedy' 'Romance' 'Horror comedy'\n",
      " 'Christian musical' 'Romantic teen drama' 'Family' 'Dark comedy'\n",
      " 'Comedy horror' 'Psychological thriller' 'Biopic'\n",
      " 'Science fiction/Thriller' 'Mockumentary' 'Satire' 'One-man show'\n",
      " 'Comedy/Horror' 'Sports-drama' 'Zombie/Heist' 'Psychological horror'\n",
      " 'Sports film' 'Comedy mystery' 'Romantic thriller' 'Christmas comedy'\n",
      " 'War-Comedy' 'Romantic comedy/Holiday' 'Adventure-romance' 'Crime drama'\n",
      " 'Adventure' 'Horror-thriller' 'Dance comedy' 'Stop Motion'\n",
      " 'Horror/Crime drama' 'Urban fantasy' 'Drama/Horror' 'Family/Comedy-drama'\n",
      " 'War' 'Crime thriller' 'Science fiction/Action' 'Teen comedy horror'\n",
      " 'Animation/Musical/Adventure' 'Animation/Comedy/Adventure'\n",
      " 'Action thriller' 'Anime/Science fiction' 'Animation / Short' 'War drama'\n",
      " 'Musical comedy' 'Family/Christmas musical' 'Science fiction thriller'\n",
      " 'Hidden-camera prank comedy' 'Spy thriller' 'Anime/Fantasy'\n",
      " 'Animated musical comedy' 'Superhero/Action' 'Biographical/Comedy'\n",
      " 'Historical-epic' 'Animation / Comedy'\n",
      " 'Christmas/Fantasy/Adventure/Comedy' 'Mentalism special' 'Drama-Comedy'\n",
      " 'Coming-of-age comedy-drama' 'Historical drama' 'Action-adventure'\n",
      " 'Concert Film' 'Animation / Science Fiction' 'Anthology/Dark comedy'\n",
      " 'Animation/Christmas/Comedy/Adventure']\n",
      "['Documentaries' 'International TV Shows, TV Dramas, TV Mysteries'\n",
      " 'Crime TV Shows, International TV Shows, TV Action & Adventure'\n",
      " 'Docuseries, Reality TV'\n",
      " 'International TV Shows, Romantic TV Shows, TV Comedies'\n",
      " 'TV Dramas, TV Horror, TV Mysteries' 'Children & Family Movies'\n",
      " 'Dramas, Independent Movies, International Movies'\n",
      " 'British TV Shows, Reality TV' 'Comedies, Dramas'\n",
      " 'Crime TV Shows, Docuseries, International TV Shows'\n",
      " 'Dramas, International Movies' 'Children & Family Movies, Comedies'\n",
      " 'British TV Shows, Crime TV Shows, Docuseries' 'TV Comedies, TV Dramas'\n",
      " 'Documentaries, International Movies'\n",
      " 'Crime TV Shows, Spanish-Language TV Shows, TV Dramas' 'Thrillers'\n",
      " 'International TV Shows, Spanish-Language TV Shows, TV Action & Adventure'\n",
      " 'International TV Shows, TV Action & Adventure, TV Dramas'\n",
      " 'Comedies, International Movies'\n",
      " 'Comedies, International Movies, Romantic Movies'\n",
      " 'Docuseries, International TV Shows, Reality TV'\n",
      " 'Comedies, International Movies, Music & Musicals' 'Comedies'\n",
      " 'Horror Movies, Sci-Fi & Fantasy' 'TV Comedies'\n",
      " 'British TV Shows, International TV Shows, TV Comedies'\n",
      " 'International TV Shows, TV Dramas, TV Thrillers' \"Kids' TV\"\n",
      " 'Dramas, International Movies, Thrillers'\n",
      " 'Action & Adventure, Dramas, International Movies'\n",
      " \"Kids' TV, TV Comedies\" 'Action & Adventure, Dramas'\n",
      " \"Kids' TV, TV Sci-Fi & Fantasy\"\n",
      " 'Action & Adventure, Classic Movies, Dramas'\n",
      " 'Dramas, Horror Movies, Thrillers'\n",
      " 'Action & Adventure, Horror Movies, Thrillers' 'Action & Adventure'\n",
      " 'Dramas, Thrillers' 'International TV Shows, TV Dramas'\n",
      " 'International TV Shows, TV Dramas, TV Sci-Fi & Fantasy'\n",
      " 'Action & Adventure, Anime Features, International Movies' 'Reality TV'\n",
      " 'Docuseries, International TV Shows'\n",
      " 'Documentaries, International Movies, Sports Movies'\n",
      " 'International TV Shows, Reality TV, Romantic TV Shows'\n",
      " 'British TV Shows, Docuseries, International TV Shows'\n",
      " 'Anime Series, International TV Shows'\n",
      " 'Comedies, Dramas, International Movies'\n",
      " 'Crime TV Shows, TV Comedies, TV Dramas'\n",
      " 'Action & Adventure, Comedies, Dramas' \"Anime Series, Kids' TV\"\n",
      " 'International Movies, Thrillers' \"Kids' TV, Korean TV Shows\"\n",
      " 'Documentaries, Sports Movies' 'Sci-Fi & Fantasy, Thrillers'\n",
      " 'Dramas, International Movies, Romantic Movies'\n",
      " 'Documentaries, Music & Musicals'\n",
      " \"Kids' TV, TV Comedies, TV Sci-Fi & Fantasy\" \"British TV Shows, Kids' TV\"\n",
      " 'Docuseries, Science & Nature TV' 'Children & Family Movies, Dramas'\n",
      " \"Kids' TV, TV Dramas, Teen TV Shows\"\n",
      " 'Crime TV Shows, International TV Shows, Spanish-Language TV Shows'\n",
      " 'Docuseries, International TV Shows, Spanish-Language TV Shows' 'Dramas'\n",
      " 'Comedies, Romantic Movies' 'Dramas, Romantic Movies'\n",
      " 'Comedies, Dramas, Independent Movies'\n",
      " 'Crime TV Shows, TV Action & Adventure, TV Comedies'\n",
      " 'Children & Family Movies, Music & Musicals'\n",
      " 'Action & Adventure, Classic Movies, Cult Movies'\n",
      " 'International TV Shows, TV Action & Adventure, TV Comedies'\n",
      " 'Action & Adventure, Sci-Fi & Fantasy' 'Action & Adventure, Comedies'\n",
      " 'Classic Movies, Comedies, Dramas' 'Comedies, Cult Movies'\n",
      " 'Comedies, Cult Movies, Music & Musicals' 'Comedies, Music & Musicals'\n",
      " 'TV Shows' 'Action & Adventure, International Movies'\n",
      " 'Anime Series, International TV Shows, Teen TV Shows'\n",
      " 'Action & Adventure, Children & Family Movies, Cult Movies'\n",
      " 'Comedies, Dramas, Romantic Movies'\n",
      " 'Comedies, Cult Movies, Sci-Fi & Fantasy' 'Classic Movies, Dramas'\n",
      " 'Action & Adventure, Children & Family Movies, Comedies'\n",
      " 'Dramas, Faith & Spirituality' 'Documentaries, LGBTQ Movies'\n",
      " 'Action & Adventure, Classic Movies' 'Docuseries'\n",
      " 'International TV Shows, TV Comedies' 'Dramas, Independent Movies'\n",
      " 'Action & Adventure, Comedies, International Movies'\n",
      " 'International TV Shows, Spanish-Language TV Shows, TV Dramas'\n",
      " 'Crime TV Shows, International TV Shows, TV Dramas'\n",
      " 'Action & Adventure, Horror Movies, International Movies'\n",
      " 'Comedies, International Movies, Sci-Fi & Fantasy'\n",
      " 'Action & Adventure, International Movies, Music & Musicals'\n",
      " 'Dramas, International Movies, Music & Musicals'\n",
      " 'Horror Movies, International Movies' 'Reality TV, Teen TV Shows'\n",
      " 'Crime TV Shows, TV Dramas, TV Mysteries'\n",
      " 'International TV Shows, Reality TV'\n",
      " 'International TV Shows, TV Comedies, TV Dramas'\n",
      " 'Dramas, Independent Movies, Romantic Movies' 'Horror Movies'\n",
      " 'Documentaries, LGBTQ Movies, Sports Movies'\n",
      " 'Horror Movies, International Movies, Thrillers'\n",
      " 'Action & Adventure, Anime Features'\n",
      " 'TV Dramas, TV Mysteries, TV Sci-Fi & Fantasy'\n",
      " 'International TV Shows, Spanish-Language TV Shows, TV Comedies'\n",
      " 'Children & Family Movies, Comedies, Music & Musicals'\n",
      " 'Comedies, Independent Movies'\n",
      " 'Anime Series, International TV Shows, Romantic TV Shows'\n",
      " 'Classic Movies, Dramas, Independent Movies'\n",
      " 'International TV Shows, Romantic TV Shows, Spanish-Language TV Shows'\n",
      " 'International TV Shows, TV Dramas, Teen TV Shows' 'Stand-Up Comedy'\n",
      " 'Action & Adventure, Anime Features, Children & Family Movies'\n",
      " 'International TV Shows, Romantic TV Shows, TV Dramas'\n",
      " 'International Movies, Music & Musicals'\n",
      " 'TV Action & Adventure, TV Dramas, TV Mysteries'\n",
      " 'Horror Movies, Independent Movies, International Movies'\n",
      " 'Comedies, Cult Movies, International Movies'\n",
      " 'Classic Movies, Dramas, International Movies' 'Movies'\n",
      " 'Crime TV Shows, Docuseries'\n",
      " 'Children & Family Movies, Comedies, Sci-Fi & Fantasy'\n",
      " 'Anime Series, International TV Shows, TV Thrillers'\n",
      " 'Action & Adventure, Horror Movies, Sci-Fi & Fantasy'\n",
      " 'Classic Movies, Comedies, Cult Movies' 'TV Dramas, Teen TV Shows'\n",
      " 'Action & Adventure, Sci-Fi & Fantasy, Thrillers'\n",
      " 'Children & Family Movies, Comedies, Dramas' 'Dramas, Sports Movies'\n",
      " 'Action & Adventure, Dramas, Sci-Fi & Fantasy'\n",
      " 'Action & Adventure, Comedies, Cult Movies'\n",
      " 'Dramas, Independent Movies, Thrillers' 'TV Dramas, TV Sci-Fi & Fantasy'\n",
      " 'Action & Adventure, International Movies, Thrillers'\n",
      " 'British TV Shows, International TV Shows, Reality TV'\n",
      " 'TV Action & Adventure, TV Dramas, Teen TV Shows' 'Anime Series'\n",
      " 'Crime TV Shows, TV Action & Adventure, TV Sci-Fi & Fantasy'\n",
      " 'Crime TV Shows, International TV Shows, TV Comedies'\n",
      " 'Stand-Up Comedy & Talk Shows, TV Comedies'\n",
      " 'Classic & Cult TV, TV Action & Adventure, TV Dramas'\n",
      " 'Children & Family Movies, Sports Movies'\n",
      " 'TV Action & Adventure, TV Sci-Fi & Fantasy'\n",
      " 'Anime Series, Stand-Up Comedy & Talk Shows' 'TV Dramas'\n",
      " 'Anime Features, Children & Family Movies, International Movies'\n",
      " 'Classic & Cult TV, Crime TV Shows, International TV Shows'\n",
      " 'Crime TV Shows, International TV Shows, Romantic TV Shows'\n",
      " 'Horror Movies, LGBTQ Movies'\n",
      " 'Action & Adventure, Dramas, Romantic Movies'\n",
      " 'Documentaries, International Movies, Music & Musicals'\n",
      " 'TV Comedies, TV Dramas, Teen TV Shows'\n",
      " 'Children & Family Movies, Comedies, Sports Movies'\n",
      " 'Children & Family Movies, Dramas, International Movies'\n",
      " 'Comedies, Documentaries, International Movies'\n",
      " 'Romantic TV Shows, TV Dramas' 'Anime Series, TV Horror, TV Thrillers'\n",
      " 'International Movies, Romantic Movies'\n",
      " 'TV Action & Adventure, TV Dramas, TV Sci-Fi & Fantasy'\n",
      " \"Kids' TV, Korean TV Shows, TV Comedies\"\n",
      " 'British TV Shows, Crime TV Shows, International TV Shows'\n",
      " 'Crime TV Shows, TV Horror, TV Mysteries'\n",
      " 'Docuseries, International TV Shows, Science & Nature TV'\n",
      " 'British TV Shows, International TV Shows, TV Dramas'\n",
      " \"Kids' TV, TV Action & Adventure, TV Sci-Fi & Fantasy\"\n",
      " 'International Movies, Romantic Movies, Thrillers'\n",
      " 'Action & Adventure, Cult Movies, International Movies'\n",
      " 'Action & Adventure, Comedies, Sci-Fi & Fantasy'\n",
      " \"International TV Shows, Kids' TV, TV Mysteries\"\n",
      " 'Action & Adventure, Thrillers'\n",
      " 'Dramas, Faith & Spirituality, International Movies'\n",
      " 'Action & Adventure, Classic Movies, Comedies'\n",
      " 'Action & Adventure, Comedies, Sports Movies'\n",
      " 'Action & Adventure, Children & Family Movies, Classic Movies'\n",
      " 'Action & Adventure, Children & Family Movies, Dramas'\n",
      " 'Horror Movies, Thrillers' 'Action & Adventure, Romantic Movies'\n",
      " 'Dramas, Romantic Movies, Sci-Fi & Fantasy'\n",
      " 'Dramas, Music & Musicals, Romantic Movies'\n",
      " 'Anime Series, Crime TV Shows, International TV Shows'\n",
      " 'Reality TV, Romantic TV Shows'\n",
      " 'International Movies, Music & Musicals, Romantic Movies'\n",
      " 'Reality TV, TV Action & Adventure, TV Mysteries'\n",
      " 'Crime TV Shows, TV Dramas'\n",
      " 'International TV Shows, Reality TV, Spanish-Language TV Shows'\n",
      " 'Crime TV Shows, TV Dramas, TV Thrillers' 'British TV Shows, Docuseries'\n",
      " 'International TV Shows, Korean TV Shows, TV Comedies'\n",
      " 'Action & Adventure, Anime Features, Classic Movies'\n",
      " 'TV Action & Adventure, TV Dramas, TV Horror'\n",
      " 'Crime TV Shows, International TV Shows, TV Thrillers'\n",
      " 'Anime Series, Crime TV Shows, TV Horror' 'Anime Features, Documentaries'\n",
      " 'Comedies, Horror Movies'\n",
      " 'International TV Shows, Spanish-Language TV Shows, Stand-Up Comedy & Talk Shows'\n",
      " 'Children & Family Movies, Documentaries, International Movies'\n",
      " 'Romantic TV Shows, TV Comedies, TV Dramas'\n",
      " 'Dramas, Faith & Spirituality, Romantic Movies'\n",
      " 'Dramas, Independent Movies, LGBTQ Movies'\n",
      " 'Comedies, Independent Movies, LGBTQ Movies'\n",
      " 'Action & Adventure, Cult Movies, Sci-Fi & Fantasy'\n",
      " 'Cult Movies, Horror Movies' 'Action & Adventure, Dramas, Sports Movies'\n",
      " 'Anime Series, Romantic TV Shows, Teen TV Shows'\n",
      " 'Dramas, International Movies, LGBTQ Movies'\n",
      " 'Dramas, Romantic Movies, Thrillers'\n",
      " 'Children & Family Movies, Dramas, Faith & Spirituality'\n",
      " 'Dramas, International Movies, Sports Movies'\n",
      " 'Action & Adventure, Horror Movies'\n",
      " 'Documentaries, International Movies, LGBTQ Movies'\n",
      " 'Dramas, Independent Movies, Sci-Fi & Fantasy'\n",
      " 'Comedies, Independent Movies, International Movies'\n",
      " 'Reality TV, TV Horror, TV Thrillers'\n",
      " 'TV Action & Adventure, TV Horror, TV Sci-Fi & Fantasy'\n",
      " 'International TV Shows, TV Horror, TV Sci-Fi & Fantasy'\n",
      " 'Independent Movies, International Movies, Thrillers'\n",
      " 'Independent Movies, Thrillers' 'Documentaries, Dramas'\n",
      " 'Action & Adventure, Sports Movies'\n",
      " 'Dramas, International Movies, Sci-Fi & Fantasy'\n",
      " 'Comedies, Independent Movies, Romantic Movies'\n",
      " 'Horror Movies, Romantic Movies, Sci-Fi & Fantasy'\n",
      " 'International TV Shows, Stand-Up Comedy & Talk Shows'\n",
      " 'Action & Adventure, Anime Features, Horror Movies'\n",
      " 'Cult Movies, Dramas, Music & Musicals' 'TV Dramas, TV Thrillers'\n",
      " 'Crime TV Shows, International TV Shows, Korean TV Shows'\n",
      " 'TV Horror, TV Mysteries, TV Thrillers'\n",
      " 'Comedies, Horror Movies, International Movies'\n",
      " 'Crime TV Shows, Docuseries, TV Mysteries'\n",
      " 'Comedies, International Movies, Sports Movies'\n",
      " 'Classic Movies, Music & Musicals' 'Reality TV, TV Comedies, TV Horror'\n",
      " 'Children & Family Movies, Faith & Spirituality, Music & Musicals'\n",
      " 'International TV Shows, Korean TV Shows, Stand-Up Comedy & Talk Shows'\n",
      " 'Dramas, Music & Musicals'\n",
      " 'Docuseries, Science & Nature TV, TV Action & Adventure'\n",
      " \"British TV Shows, Kids' TV, TV Dramas\"\n",
      " 'International TV Shows, Korean TV Shows, Romantic TV Shows'\n",
      " 'Horror Movies, Independent Movies'\n",
      " \"Anime Series, Kids' TV, TV Action & Adventure\"\n",
      " 'Comedies, Dramas, Music & Musicals' 'TV Horror, Teen TV Shows'\n",
      " 'Comedies, LGBTQ Movies, Thrillers'\n",
      " 'Docuseries, Reality TV, Science & Nature TV'\n",
      " 'Crime TV Shows, Spanish-Language TV Shows, TV Action & Adventure'\n",
      " 'Romantic TV Shows, Teen TV Shows' 'TV Comedies, Teen TV Shows'\n",
      " 'Romantic TV Shows, TV Dramas, Teen TV Shows'\n",
      " 'Children & Family Movies, Sci-Fi & Fantasy'\n",
      " 'Romantic TV Shows, TV Action & Adventure, TV Dramas'\n",
      " 'Comedies, International Movies, LGBTQ Movies' 'Dramas, Sci-Fi & Fantasy'\n",
      " \"Kids' TV, TV Thrillers\"\n",
      " 'TV Action & Adventure, TV Comedies, TV Sci-Fi & Fantasy'\n",
      " 'British TV Shows, Romantic TV Shows, TV Dramas'\n",
      " 'Anime Series, International TV Shows, Spanish-Language TV Shows'\n",
      " 'Docuseries, TV Comedies' 'Comedies, Romantic Movies, Sports Movies'\n",
      " 'TV Action & Adventure, TV Comedies, TV Dramas'\n",
      " 'Children & Family Movies, Dramas, Sports Movies'\n",
      " 'Action & Adventure, Dramas, Independent Movies'\n",
      " 'Spanish-Language TV Shows, TV Dramas' 'Dramas, LGBTQ Movies'\n",
      " 'TV Horror, TV Mysteries, TV Sci-Fi & Fantasy'\n",
      " 'Action & Adventure, Dramas, Faith & Spirituality'\n",
      " 'International TV Shows, TV Mysteries, TV Thrillers'\n",
      " 'British TV Shows, Classic & Cult TV, International TV Shows'\n",
      " 'Action & Adventure, Comedies, Independent Movies' 'Music & Musicals'\n",
      " \"British TV Shows, Kids' TV, TV Comedies\"\n",
      " 'Docuseries, Spanish-Language TV Shows'\n",
      " 'Dramas, Independent Movies, Sports Movies'\n",
      " 'TV Dramas, TV Mysteries, TV Thrillers'\n",
      " 'Comedies, LGBTQ Movies, Music & Musicals'\n",
      " 'International TV Shows, TV Action & Adventure, TV Mysteries'\n",
      " \"Kids' TV, TV Comedies, Teen TV Shows\"\n",
      " 'International TV Shows, TV Dramas, TV Horror'\n",
      " 'Comedies, International Movies, Thrillers'\n",
      " 'Classic & Cult TV, TV Action & Adventure, TV Sci-Fi & Fantasy'\n",
      " 'International TV Shows, TV Horror, TV Mysteries'\n",
      " 'Children & Family Movies, Documentaries'\n",
      " 'Music & Musicals, Romantic Movies' 'Romantic Movies'\n",
      " 'Children & Family Movies, Classic Movies, Comedies'\n",
      " 'TV Action & Adventure, TV Dramas'\n",
      " 'Dramas, LGBTQ Movies, Romantic Movies'\n",
      " 'Children & Family Movies, Comedies, Romantic Movies'\n",
      " 'Comedies, Sports Movies' 'International Movies'\n",
      " 'International TV Shows, Romantic TV Shows, TV Mysteries'\n",
      " 'Stand-Up Comedy & Talk Shows'\n",
      " 'Action & Adventure, International Movies, Romantic Movies'\n",
      " 'Reality TV, TV Comedies' 'Cult Movies, Dramas, International Movies'\n",
      " \"Kids' TV, TV Dramas\"\n",
      " 'Crime TV Shows, International TV Shows, TV Mysteries'\n",
      " 'Action & Adventure, Sci-Fi & Fantasy, Sports Movies'\n",
      " 'TV Dramas, TV Sci-Fi & Fantasy, TV Thrillers'\n",
      " 'Romantic TV Shows, TV Dramas, TV Sci-Fi & Fantasy'\n",
      " 'Docuseries, TV Sci-Fi & Fantasy' 'Anime Features, International Movies'\n",
      " \"British TV Shows, Classic & Cult TV, Kids' TV\"\n",
      " 'British TV Shows, Reality TV, Romantic TV Shows'\n",
      " 'Documentaries, Faith & Spirituality, International Movies'\n",
      " \"Kids' TV, Reality TV, TV Dramas\" 'LGBTQ Movies, Thrillers'\n",
      " 'TV Action & Adventure, TV Mysteries, TV Sci-Fi & Fantasy'\n",
      " 'Reality TV, Science & Nature TV'\n",
      " \"Kids' TV, TV Action & Adventure, TV Comedies\"\n",
      " 'International TV Shows, Romantic TV Shows, TV Action & Adventure'\n",
      " 'Children & Family Movies, Dramas, Independent Movies'\n",
      " 'Comedies, Music & Musicals, Romantic Movies'\n",
      " 'International TV Shows, Korean TV Shows, Reality TV'\n",
      " 'Classic & Cult TV, TV Dramas, TV Sci-Fi & Fantasy'\n",
      " 'Anime Features, Children & Family Movies'\n",
      " 'Action & Adventure, International Movies, Sci-Fi & Fantasy'\n",
      " 'Crime TV Shows, TV Action & Adventure, TV Dramas'\n",
      " 'Classic & Cult TV, TV Action & Adventure, TV Horror'\n",
      " 'International TV Shows, Korean TV Shows, TV Dramas'\n",
      " 'International TV Shows, TV Action & Adventure, TV Horror'\n",
      " 'Action & Adventure, Comedies, Romantic Movies'\n",
      " 'International TV Shows, Korean TV Shows, TV Action & Adventure'\n",
      " \"Classic & Cult TV, Kids' TV, TV Action & Adventure\"\n",
      " 'Anime Series, International TV Shows, TV Horror'\n",
      " 'International TV Shows, Korean TV Shows, TV Horror'\n",
      " 'Children & Family Movies, Comedies, International Movies'\n",
      " 'International Movies, Sci-Fi & Fantasy'\n",
      " 'International Movies, Sci-Fi & Fantasy, Thrillers'\n",
      " 'Children & Family Movies, Dramas, Romantic Movies'\n",
      " 'Anime Series, Romantic TV Shows' 'Comedies, Dramas, LGBTQ Movies'\n",
      " 'British TV Shows, International TV Shows, TV Action & Adventure'\n",
      " 'Docuseries, Science & Nature TV, TV Comedies'\n",
      " 'International TV Shows, Stand-Up Comedy & Talk Shows, TV Comedies'\n",
      " 'Children & Family Movies, Dramas, Music & Musicals'\n",
      " 'Action & Adventure, Independent Movies, International Movies'\n",
      " 'Action & Adventure, Children & Family Movies, Sci-Fi & Fantasy'\n",
      " 'Horror Movies, Independent Movies, Sci-Fi & Fantasy'\n",
      " 'TV Dramas, TV Sci-Fi & Fantasy, Teen TV Shows'\n",
      " 'Anime Features, International Movies, Sci-Fi & Fantasy'\n",
      " 'Dramas, Independent Movies, Music & Musicals'\n",
      " \"Kids' TV, TV Comedies, TV Dramas\"\n",
      " 'Children & Family Movies, Documentaries, Sports Movies'\n",
      " 'Independent Movies, Sci-Fi & Fantasy, Thrillers'\n",
      " 'Anime Features, Music & Musicals, Sci-Fi & Fantasy'\n",
      " 'TV Comedies, TV Dramas, TV Sci-Fi & Fantasy'\n",
      " 'Crime TV Shows, TV Action & Adventure'\n",
      " 'Comedies, Faith & Spirituality, Romantic Movies'\n",
      " \"Kids' TV, TV Action & Adventure\"\n",
      " 'Action & Adventure, Independent Movies'\n",
      " 'International TV Shows, Reality TV, TV Comedies'\n",
      " 'Docuseries, Reality TV, Teen TV Shows'\n",
      " 'Crime TV Shows, International TV Shows, Reality TV'\n",
      " 'Anime Series, Teen TV Shows'\n",
      " 'Crime TV Shows, Romantic TV Shows, TV Dramas'\n",
      " 'Anime Features, Romantic Movies'\n",
      " 'Horror Movies, Sci-Fi & Fantasy, Thrillers'\n",
      " 'International TV Shows, TV Comedies, TV Sci-Fi & Fantasy'\n",
      " 'International TV Shows, Romantic TV Shows'\n",
      " 'Anime Features, Music & Musicals'\n",
      " 'Anime Features, International Movies, Romantic Movies'\n",
      " 'International TV Shows, Romantic TV Shows, Teen TV Shows'\n",
      " 'Docuseries, Stand-Up Comedy & Talk Shows'\n",
      " 'Horror Movies, Independent Movies, Thrillers'\n",
      " 'TV Action & Adventure, TV Comedies, TV Horror'\n",
      " 'Documentaries, Stand-Up Comedy' \"Kids' TV, Spanish-Language TV Shows\"\n",
      " \"British TV Shows, Kids' TV, TV Thrillers\"\n",
      " \"Kids' TV, TV Action & Adventure, TV Dramas\"\n",
      " 'Anime Series, Crime TV Shows' 'Dramas, Sci-Fi & Fantasy, Thrillers'\n",
      " 'TV Comedies, TV Dramas, TV Horror'\n",
      " 'Children & Family Movies, Comedies, LGBTQ Movies'\n",
      " 'International TV Shows, TV Action & Adventure, TV Sci-Fi & Fantasy'\n",
      " 'Docuseries, TV Dramas'\n",
      " 'Horror Movies, International Movies, Romantic Movies'\n",
      " 'Crime TV Shows, Docuseries, Science & Nature TV'\n",
      " 'International Movies, Music & Musicals, Thrillers'\n",
      " \"Kids' TV, Spanish-Language TV Shows, Teen TV Shows\"\n",
      " 'Comedies, Horror Movies, Independent Movies'\n",
      " 'Action & Adventure, International Movies, Sports Movies'\n",
      " 'Action & Adventure, Independent Movies, Sci-Fi & Fantasy'\n",
      " 'Horror Movies, LGBTQ Movies, Music & Musicals'\n",
      " 'Comedies, Music & Musicals, Sports Movies'\n",
      " 'TV Horror, TV Mysteries, Teen TV Shows' 'Romantic TV Shows, TV Comedies'\n",
      " \"Kids' TV, Reality TV, Science & Nature TV\"\n",
      " 'International Movies, Romantic Movies, Sci-Fi & Fantasy'\n",
      " 'TV Comedies, TV Horror, TV Thrillers' 'TV Action & Adventure'\n",
      " 'International TV Shows, Spanish-Language TV Shows, TV Horror'\n",
      " 'Crime TV Shows, TV Action & Adventure, TV Thrillers'\n",
      " 'Music & Musicals, Stand-Up Comedy' 'British TV Shows, TV Comedies'\n",
      " 'TV Comedies, TV Sci-Fi & Fantasy, Teen TV Shows'\n",
      " 'TV Comedies, TV Sci-Fi & Fantasy'\n",
      " 'Romantic TV Shows, Spanish-Language TV Shows, TV Comedies'\n",
      " 'Crime TV Shows, International TV Shows, TV Sci-Fi & Fantasy'\n",
      " 'British TV Shows, International TV Shows, Romantic TV Shows'\n",
      " \"Crime TV Shows, Kids' TV\"\n",
      " 'Horror Movies, International Movies, Sci-Fi & Fantasy'\n",
      " 'TV Comedies, TV Mysteries'\n",
      " 'Cult Movies, Horror Movies, Independent Movies'\n",
      " 'British TV Shows, Docuseries, TV Comedies' 'Comedies, Documentaries'\n",
      " 'Reality TV, Science & Nature TV, TV Action & Adventure'\n",
      " 'TV Comedies, TV Dramas, TV Mysteries'\n",
      " 'Crime TV Shows, TV Comedies, Teen TV Shows'\n",
      " \"Docuseries, Kids' TV, Science & Nature TV\"\n",
      " 'Reality TV, Spanish-Language TV Shows'\n",
      " 'Action & Adventure, Anime Features, Sci-Fi & Fantasy'\n",
      " \"Crime TV Shows, Kids' TV, TV Comedies\"\n",
      " 'Dramas, Faith & Spirituality, Independent Movies'\n",
      " 'Documentaries, Faith & Spirituality'\n",
      " 'British TV Shows, International TV Shows, Stand-Up Comedy & Talk Shows'\n",
      " 'Comedies, Dramas, Faith & Spirituality' 'Classic & Cult TV, TV Comedies'\n",
      " 'Dramas, Romantic Movies, Sports Movies'\n",
      " 'Stand-Up Comedy & Talk Shows, TV Mysteries, TV Sci-Fi & Fantasy'\n",
      " 'TV Sci-Fi & Fantasy, TV Thrillers'\n",
      " 'Comedies, Independent Movies, Music & Musicals'\n",
      " 'Comedies, Cult Movies, Independent Movies'\n",
      " 'Documentaries, Dramas, International Movies'\n",
      " 'British TV Shows, TV Horror, TV Thrillers'\n",
      " 'British TV Shows, Docuseries, Science & Nature TV'\n",
      " 'Children & Family Movies, Comedies, Cult Movies' 'Sports Movies'\n",
      " 'Sci-Fi & Fantasy' 'Comedies, LGBTQ Movies'\n",
      " 'Comedies, Independent Movies, Thrillers'\n",
      " 'Classic Movies, Cult Movies, Dramas'\n",
      " 'British TV Shows, TV Comedies, TV Dramas'\n",
      " 'Action & Adventure, Children & Family Movies, Independent Movies'\n",
      " 'Action & Adventure, Documentaries, International Movies'\n",
      " 'Children & Family Movies, Independent Movies'\n",
      " 'Comedies, Cult Movies, Dramas'\n",
      " 'International TV Shows, TV Horror, TV Thrillers'\n",
      " 'Classic Movies, Thrillers' 'Crime TV Shows, TV Dramas, TV Horror'\n",
      " 'British TV Shows, Docuseries, Reality TV'\n",
      " 'Documentaries, LGBTQ Movies, Music & Musicals'\n",
      " 'Classic Movies, Dramas, Romantic Movies'\n",
      " 'Crime TV Shows, Romantic TV Shows, Spanish-Language TV Shows'\n",
      " 'Classic Movies, Cult Movies, Horror Movies'\n",
      " 'Anime Series, Crime TV Shows, TV Thrillers'\n",
      " 'Children & Family Movies, Classic Movies'\n",
      " 'Classic Movies, Comedies, International Movies'\n",
      " 'Comedies, Sci-Fi & Fantasy' 'Action & Adventure, Cult Movies, Dramas'\n",
      " 'Documentaries, Faith & Spirituality, Music & Musicals'\n",
      " 'British TV Shows, Classic & Cult TV, TV Comedies'\n",
      " 'International Movies, Sports Movies' 'International TV Shows'\n",
      " \"Classic & Cult TV, Kids' TV, Spanish-Language TV Shows\"\n",
      " 'Romantic TV Shows, Spanish-Language TV Shows, TV Dramas'\n",
      " 'Children & Family Movies, Comedies, Faith & Spirituality'\n",
      " 'British TV Shows, Crime TV Shows, TV Dramas'\n",
      " 'Classic Movies, Dramas, Music & Musicals'\n",
      " 'Cult Movies, Horror Movies, Thrillers'\n",
      " 'Action & Adventure, Classic Movies, Sci-Fi & Fantasy'\n",
      " 'TV Action & Adventure, TV Comedies'\n",
      " 'Classic Movies, Comedies, Music & Musicals' 'Independent Movies'\n",
      " 'Documentaries, Horror Movies'\n",
      " 'Classic & Cult TV, TV Horror, TV Mysteries'\n",
      " 'Comedies, Faith & Spirituality, International Movies'\n",
      " 'Dramas, Horror Movies, Sci-Fi & Fantasy'\n",
      " 'British TV Shows, TV Dramas, TV Sci-Fi & Fantasy'\n",
      " 'Comedies, Cult Movies, Horror Movies'\n",
      " 'Comedies, Cult Movies, Sports Movies' 'Classic Movies, Documentaries'\n",
      " 'Action & Adventure, Faith & Spirituality, Sci-Fi & Fantasy'\n",
      " 'Action & Adventure, Children & Family Movies'\n",
      " 'International TV Shows, Reality TV, TV Action & Adventure'\n",
      " 'Docuseries, Science & Nature TV, TV Dramas' 'Anime Features'\n",
      " 'Action & Adventure, Horror Movies, Independent Movies'\n",
      " 'Action & Adventure, Classic Movies, International Movies'\n",
      " 'Cult Movies, Independent Movies, Thrillers'\n",
      " 'Crime TV Shows, TV Comedies'\n",
      " 'Classic Movies, Cult Movies, Documentaries'\n",
      " \"Classic & Cult TV, Kids' TV, TV Comedies\"\n",
      " 'Classic Movies, Dramas, LGBTQ Movies'\n",
      " 'Classic Movies, Dramas, Sports Movies' 'Action & Adventure, Cult Movies'\n",
      " 'Action & Adventure, Comedies, Music & Musicals'\n",
      " 'Classic Movies, Horror Movies, Thrillers'\n",
      " 'Classic Movies, Comedies, Independent Movies'\n",
      " 'Children & Family Movies, Classic Movies, Dramas'\n",
      " 'Dramas, Faith & Spirituality, Sports Movies'\n",
      " 'Classic Movies, Comedies, Romantic Movies'\n",
      " 'Dramas, Horror Movies, Music & Musicals'\n",
      " 'Classic Movies, Independent Movies, Thrillers'\n",
      " 'Children & Family Movies, Faith & Spirituality'\n",
      " 'Classic Movies, Comedies, Sports Movies'\n",
      " 'Comedies, Dramas, Sports Movies'\n",
      " 'Action & Adventure, Romantic Movies, Sci-Fi & Fantasy'\n",
      " 'Classic & Cult TV, TV Sci-Fi & Fantasy'\n",
      " 'Comedies, Cult Movies, LGBTQ Movies'\n",
      " 'Comedies, Horror Movies, Sci-Fi & Fantasy'\n",
      " 'Action & Adventure, Comedies, Horror Movies'\n",
      " 'Classic & Cult TV, Crime TV Shows, TV Dramas'\n",
      " 'Action & Adventure, Documentaries, Sports Movies'\n",
      " 'International Movies, LGBTQ Movies, Romantic Movies'\n",
      " 'Cult Movies, Dramas, Thrillers']\n"
     ]
    }
   ],
   "source": [
    "print(df_originals['Genre'].unique())\n",
    "print(df_titles['listed_in'].unique())\n"
   ]
  },
  {
   "cell_type": "markdown",
   "metadata": {},
   "source": [
    "Analisis de columnas y estructura"
   ]
  },
  {
   "cell_type": "code",
   "execution_count": 44,
   "metadata": {},
   "outputs": [
    {
     "name": "stdout",
     "output_type": "stream",
     "text": [
      "Tamaño de Netflix Originals:\n",
      "(513, 7)\n",
      "\n",
      "Tamaño de Netflix Titles:\n",
      "(8807, 13)\n"
     ]
    }
   ],
   "source": [
    "# Número de filas y columnas\n",
    "print(\"Tamaño de Netflix Originals:\")\n",
    "print(df_originals.shape)\n",
    "\n",
    "print(\"\\nTamaño de Netflix Titles:\")\n",
    "print(df_titles.shape)\n"
   ]
  },
  {
   "cell_type": "code",
   "execution_count": 45,
   "metadata": {},
   "outputs": [
    {
     "name": "stdout",
     "output_type": "stream",
     "text": [
      "\n",
      "Descripción de Netflix Originals:\n",
      "        Unnamed: 0                                     Title        Genre  \\\n",
      "count   513.000000                                       513          513   \n",
      "unique         NaN                                       513          106   \n",
      "top            NaN  David Attenborough: A Life on Our Planet  Documentary   \n",
      "freq           NaN                                         1          132   \n",
      "mean    280.984405                                       NaN          NaN   \n",
      "std     166.445537                                       NaN          NaN   \n",
      "min       0.000000                                       NaN          NaN   \n",
      "25%     137.000000                                       NaN          NaN   \n",
      "50%     277.000000                                       NaN          NaN   \n",
      "75%     422.000000                                       NaN          NaN   \n",
      "max     583.000000                                       NaN          NaN   \n",
      "\n",
      "                Premiere     Runtime  IMDB Score Language  \n",
      "count                513  513.000000  513.000000      513  \n",
      "unique               350         NaN         NaN       37  \n",
      "top     October 18, 2019         NaN         NaN  English  \n",
      "freq                   5         NaN         NaN      352  \n",
      "mean                 NaN   94.674464    6.210916      NaN  \n",
      "std                  NaN   26.648121    0.968850      NaN  \n",
      "min                  NaN    4.000000    2.500000      NaN  \n",
      "25%                  NaN   87.000000    5.600000      NaN  \n",
      "50%                  NaN   97.000000    6.300000      NaN  \n",
      "75%                  NaN  108.000000    6.900000      NaN  \n",
      "max                  NaN  209.000000    9.000000      NaN  \n",
      "\n",
      "Descripción de Netflix Titles:\n",
      "         Unnamed: 0 show_id   type   title       director                cast  \\\n",
      "count   8807.000000    8807   8807    8807           6173                7982   \n",
      "unique          NaN    8807      2    8807           4528                7692   \n",
      "top             NaN   s8807  Movie  Zubaan  Rajiv Chilaka  David Attenborough   \n",
      "freq            NaN       1   6131       1             19                  19   \n",
      "mean    4403.000000     NaN    NaN     NaN            NaN                 NaN   \n",
      "std     2542.506244     NaN    NaN     NaN            NaN                 NaN   \n",
      "min        0.000000     NaN    NaN     NaN            NaN                 NaN   \n",
      "25%     2201.500000     NaN    NaN     NaN            NaN                 NaN   \n",
      "50%     4403.000000     NaN    NaN     NaN            NaN                 NaN   \n",
      "75%     6604.500000     NaN    NaN     NaN            NaN                 NaN   \n",
      "max     8806.000000     NaN    NaN     NaN            NaN                 NaN   \n",
      "\n",
      "              country       date_added  release_year rating   duration  \\\n",
      "count            7976             8797   8807.000000   8803       3994   \n",
      "unique            748             1767           NaN     17        185   \n",
      "top     United States  January 1, 2020           NaN  TV-MA  2 Seasons   \n",
      "freq             2818              109           NaN   3207        425   \n",
      "mean              NaN              NaN   2014.180198    NaN        NaN   \n",
      "std               NaN              NaN      8.819312    NaN        NaN   \n",
      "min               NaN              NaN   1925.000000    NaN        NaN   \n",
      "25%               NaN              NaN   2013.000000    NaN        NaN   \n",
      "50%               NaN              NaN   2017.000000    NaN        NaN   \n",
      "75%               NaN              NaN   2019.000000    NaN        NaN   \n",
      "max               NaN              NaN   2021.000000    NaN        NaN   \n",
      "\n",
      "                           listed_in  \\\n",
      "count                           8807   \n",
      "unique                           514   \n",
      "top     Dramas, International Movies   \n",
      "freq                             362   \n",
      "mean                             NaN   \n",
      "std                              NaN   \n",
      "min                              NaN   \n",
      "25%                              NaN   \n",
      "50%                              NaN   \n",
      "75%                              NaN   \n",
      "max                              NaN   \n",
      "\n",
      "                                              description  \n",
      "count                                                8807  \n",
      "unique                                               8775  \n",
      "top     Paranormal activity at a lush, abandoned prope...  \n",
      "freq                                                    4  \n",
      "mean                                                  NaN  \n",
      "std                                                   NaN  \n",
      "min                                                   NaN  \n",
      "25%                                                   NaN  \n",
      "50%                                                   NaN  \n",
      "75%                                                   NaN  \n",
      "max                                                   NaN  \n"
     ]
    }
   ],
   "source": [
    "# Estadísticas descriptivas\n",
    "print(\"\\nDescripción de Netflix Originals:\")\n",
    "print(df_originals.describe(include='all'))\n",
    "\n",
    "print(\"\\nDescripción de Netflix Titles:\")\n",
    "print(df_titles.describe(include='all'))\n"
   ]
  },
  {
   "cell_type": "code",
   "execution_count": 46,
   "metadata": {},
   "outputs": [
    {
     "name": "stdout",
     "output_type": "stream",
     "text": [
      "\n",
      "Títulos únicos en Netflix Originals:\n",
      "513\n",
      "\n",
      "Títulos únicos en Netflix Titles:\n",
      "8807\n"
     ]
    }
   ],
   "source": [
    "# Títulos únicos\n",
    "print(\"\\nTítulos únicos en Netflix Originals:\")\n",
    "print(df_originals['Title'].nunique())\n",
    "\n",
    "print(\"\\nTítulos únicos en Netflix Titles:\")\n",
    "print(df_titles['title'].nunique())\n"
   ]
  },
  {
   "cell_type": "code",
   "execution_count": 47,
   "metadata": {},
   "outputs": [
    {
     "name": "stdout",
     "output_type": "stream",
     "text": [
      "\n",
      "Duplicados en Netflix Originals:\n",
      "0\n",
      "\n",
      "Duplicados en Netflix Titles:\n",
      "0\n"
     ]
    }
   ],
   "source": [
    "# Duplicados\n",
    "print(\"\\nDuplicados en Netflix Originals:\")\n",
    "print(df_originals.duplicated().sum())\n",
    "\n",
    "print(\"\\nDuplicados en Netflix Titles:\")\n",
    "print(df_titles.duplicated().sum())\n"
   ]
  },
  {
   "cell_type": "code",
   "execution_count": 48,
   "metadata": {},
   "outputs": [
    {
     "name": "stdout",
     "output_type": "stream",
     "text": [
      "\n",
      "Valores nulos en Netflix Originals:\n",
      "Unnamed: 0    0\n",
      "Title         0\n",
      "Genre         0\n",
      "Premiere      0\n",
      "Runtime       0\n",
      "IMDB Score    0\n",
      "Language      0\n",
      "dtype: int64\n",
      "\n",
      "Valores nulos en Netflix Titles:\n",
      "Unnamed: 0         0\n",
      "show_id            0\n",
      "type               0\n",
      "title              0\n",
      "director        2634\n",
      "cast             825\n",
      "country          831\n",
      "date_added        10\n",
      "release_year       0\n",
      "rating             4\n",
      "duration        4813\n",
      "listed_in          0\n",
      "description        0\n",
      "dtype: int64\n"
     ]
    }
   ],
   "source": [
    "# Valores nulos\n",
    "print(\"\\nValores nulos en Netflix Originals:\")\n",
    "print(df_originals.isnull().sum())\n",
    "\n",
    "print(\"\\nValores nulos en Netflix Titles:\")\n",
    "print(df_titles.isnull().sum())\n"
   ]
  },
  {
   "cell_type": "code",
   "execution_count": 60,
   "metadata": {},
   "outputs": [
    {
     "name": "stderr",
     "output_type": "stream",
     "text": [
      "C:\\Users\\Daniella Guerra\\AppData\\Local\\Temp\\ipykernel_4600\\2206987812.py:2: FutureWarning: A value is trying to be set on a copy of a DataFrame or Series through chained assignment using an inplace method.\n",
      "The behavior will change in pandas 3.0. This inplace method will never work because the intermediate object on which we are setting values always behaves as a copy.\n",
      "\n",
      "For example, when doing 'df[col].method(value, inplace=True)', try using 'df.method({col: value}, inplace=True)' or df[col] = df[col].method(value) instead, to perform the operation inplace on the original object.\n",
      "\n",
      "\n",
      "  df_titles['director'].fillna('Unknown', inplace=True)\n",
      "C:\\Users\\Daniella Guerra\\AppData\\Local\\Temp\\ipykernel_4600\\2206987812.py:3: FutureWarning: A value is trying to be set on a copy of a DataFrame or Series through chained assignment using an inplace method.\n",
      "The behavior will change in pandas 3.0. This inplace method will never work because the intermediate object on which we are setting values always behaves as a copy.\n",
      "\n",
      "For example, when doing 'df[col].method(value, inplace=True)', try using 'df.method({col: value}, inplace=True)' or df[col] = df[col].method(value) instead, to perform the operation inplace on the original object.\n",
      "\n",
      "\n",
      "  df_titles['cast'].fillna('Unknown Cast', inplace=True)\n",
      "C:\\Users\\Daniella Guerra\\AppData\\Local\\Temp\\ipykernel_4600\\2206987812.py:4: FutureWarning: A value is trying to be set on a copy of a DataFrame or Series through chained assignment using an inplace method.\n",
      "The behavior will change in pandas 3.0. This inplace method will never work because the intermediate object on which we are setting values always behaves as a copy.\n",
      "\n",
      "For example, when doing 'df[col].method(value, inplace=True)', try using 'df.method({col: value}, inplace=True)' or df[col] = df[col].method(value) instead, to perform the operation inplace on the original object.\n",
      "\n",
      "\n",
      "  df_titles['country'].fillna('Unknown Country', inplace=True)\n"
     ]
    }
   ],
   "source": [
    "# Rellenar valores faltantes en columnas específicas\n",
    "df_titles['director'].fillna('Unknown', inplace=True)\n",
    "df_titles['cast'].fillna('Unknown Cast', inplace=True)\n",
    "df_titles['country'].fillna('Unknown Country', inplace=True)\n",
    "\n",
    "\n",
    "\n",
    "\n",
    "\n",
    "\n",
    "\n",
    "\n"
   ]
  },
  {
   "cell_type": "code",
   "execution_count": 57,
   "metadata": {},
   "outputs": [],
   "source": [
    "# Eliminar filas con valores faltantes en `date_added`\n",
    "df_titles.dropna(subset=['date_added'], inplace=True)"
   ]
  },
  {
   "cell_type": "code",
   "execution_count": 58,
   "metadata": {},
   "outputs": [
    {
     "name": "stderr",
     "output_type": "stream",
     "text": [
      "C:\\Users\\Daniella Guerra\\AppData\\Local\\Temp\\ipykernel_4600\\1888353652.py:2: FutureWarning: A value is trying to be set on a copy of a DataFrame or Series through chained assignment using an inplace method.\n",
      "The behavior will change in pandas 3.0. This inplace method will never work because the intermediate object on which we are setting values always behaves as a copy.\n",
      "\n",
      "For example, when doing 'df[col].method(value, inplace=True)', try using 'df.method({col: value}, inplace=True)' or df[col] = df[col].method(value) instead, to perform the operation inplace on the original object.\n",
      "\n",
      "\n",
      "  df_titles['rating'].fillna('Not Rated', inplace=True)\n"
     ]
    }
   ],
   "source": [
    "# Rellenar valores faltantes en `rating`\n",
    "df_titles['rating'].fillna('Not Rated', inplace=True)"
   ]
  },
  {
   "cell_type": "code",
   "execution_count": 59,
   "metadata": {},
   "outputs": [
    {
     "name": "stderr",
     "output_type": "stream",
     "text": [
      "C:\\Users\\Daniella Guerra\\AppData\\Local\\Temp\\ipykernel_4600\\808621451.py:2: FutureWarning: A value is trying to be set on a copy of a DataFrame or Series through chained assignment using an inplace method.\n",
      "The behavior will change in pandas 3.0. This inplace method will never work because the intermediate object on which we are setting values always behaves as a copy.\n",
      "\n",
      "For example, when doing 'df[col].method(value, inplace=True)', try using 'df.method({col: value}, inplace=True)' or df[col] = df[col].method(value) instead, to perform the operation inplace on the original object.\n",
      "\n",
      "\n",
      "  df_titles['duration'].fillna('Unknown Duration', inplace=True)\n"
     ]
    }
   ],
   "source": [
    "# Tratar la columna `duration`\n",
    "df_titles['duration'].fillna('Unknown Duration', inplace=True)"
   ]
  },
  {
   "cell_type": "code",
   "execution_count": 61,
   "metadata": {},
   "outputs": [
    {
     "name": "stdout",
     "output_type": "stream",
     "text": [
      "Valores nulos después del tratamiento:\n",
      "Unnamed: 0      0\n",
      "show_id         0\n",
      "type            0\n",
      "title           0\n",
      "director        0\n",
      "cast            0\n",
      "country         0\n",
      "date_added      0\n",
      "release_year    0\n",
      "rating          0\n",
      "duration        0\n",
      "listed_in       0\n",
      "description     0\n",
      "dtype: int64\n"
     ]
    }
   ],
   "source": [
    "# Verificar si ya no hay valores nulos\n",
    "print(\"Valores nulos después del tratamiento:\")\n",
    "print(df_titles.isnull().sum())"
   ]
  },
  {
   "cell_type": "markdown",
   "metadata": {},
   "source": [
    "Limpieza de Datos"
   ]
  },
  {
   "cell_type": "code",
   "execution_count": 2,
   "metadata": {},
   "outputs": [],
   "source": [
    "\n",
    "df_originals = pd.read_csv('C:/Users/Daniella Guerra/Desktop/Python - Pandas/Netflix_Project/datos/netflix_originals.csv')\n",
    "df_titles = pd.read_csv('C:/Users/Daniella Guerra/Desktop/Python - Pandas/Netflix_Project/datos/netflix_titles.csv')\n",
    "\n",
    "merged_df = pd.merge(df_titles, df_originals, left_on=\"title\", right_on=\"Title\", how=\"left\")\n"
   ]
  },
  {
   "cell_type": "code",
   "execution_count": 3,
   "metadata": {},
   "outputs": [
    {
     "name": "stdout",
     "output_type": "stream",
     "text": [
      "    duration  duration_cleaned\n",
      "0     90 min              90.0\n",
      "1  2 Seasons               2.0\n",
      "2        NaN               NaN\n",
      "3        NaN               NaN\n",
      "4  2 Seasons               2.0\n"
     ]
    }
   ],
   "source": [
    "import pandas as pd\n",
    "\n",
    "\n",
    "merged_df[\"date_added\"] = pd.to_datetime(merged_df[\"date_added\"], errors=\"coerce\")\n",
    "\n",
    "\n",
    "def clean_duration(value):\n",
    "    try:\n",
    "        \n",
    "        if isinstance(value, str):\n",
    "            return int(value.split()[0])  \n",
    "        else:\n",
    "            return None \n",
    "    except (ValueError, IndexError):\n",
    "        return None\n",
    "\n",
    "\n",
    "merged_df[\"duration_cleaned\"] = merged_df[\"duration\"].apply(clean_duration)\n",
    "\n",
    "\n",
    "print(merged_df[[\"duration\", \"duration_cleaned\"]].head())\n"
   ]
  },
  {
   "cell_type": "markdown",
   "metadata": {},
   "source": [
    "Se ha convertido la columna date_added al formato datetime, luego se ha limpiado la columna duration y se extrajo el valor numérico\n",
    "Se ha manejado los valores faltantes y creado la columna duration_cleaned con los valores estandarizados\n"
   ]
  },
  {
   "cell_type": "code",
   "execution_count": 5,
   "metadata": {},
   "outputs": [],
   "source": [
    "#normalizacion de rating\n",
    "\n",
    "def normalize_rating(rating):\n",
    "    if rating in [\"G\", \"PG\"]:\n",
    "        return \"General Audience\"\n",
    "    elif rating in [\"PG-13\", \"TV-14\"]:\n",
    "        return \"Teens\"\n",
    "    elif rating in [\"R\", \"TV-MA\"]:\n",
    "        return \"Adults\"\n",
    "    return \"Unknown\"\n",
    "\n",
    "merged_df[\"rating_group\"] = merged_df[\"rating\"].apply(normalize_rating)\n"
   ]
  },
  {
   "cell_type": "markdown",
   "metadata": {},
   "source": [
    "Agrupamos las clasificaciones (rating) en categorías más generales: \"General Audience\", \"Teens\" y \"Adults\", donde se ha creado la columna nueva llamada rating_group con las calificaciones normalizadas."
   ]
  },
  {
   "cell_type": "code",
   "execution_count": 6,
   "metadata": {},
   "outputs": [],
   "source": [
    "#Creación de una columna personalizada basada en el elenco\n",
    "\n",
    "famous_actors = [\"Leonardo DiCaprio\", \"Tom Hanks\", \"Morgan Freeman\"]\n",
    "merged_df[\"has_famous_actor\"] = merged_df[\"title\"].apply(\n",
    "    lambda x: any(actor in str(x) for actor in famous_actors)\n",
    ")\n"
   ]
  },
  {
   "cell_type": "markdown",
   "metadata": {},
   "source": [
    "Se ha creado una columna has_famous_actor que indica si un actor reconocido (como Leonardo DiCaprio) aparece en la columna title.\n",
    "Donde se ha colocado una columna True/False que identifica la presencia de actores famosos"
   ]
  },
  {
   "cell_type": "code",
   "execution_count": 7,
   "metadata": {},
   "outputs": [],
   "source": [
    "#Creación de una columna personalizada usando lógica condicional\n",
    "\n",
    "def is_recent_release(year):\n",
    "    current_year = pd.Timestamp.now().year\n",
    "    return year >= (current_year - 5)\n",
    "\n",
    "merged_df[\"is_recent\"] = merged_df[\"date_added\"].dt.year.apply(\n",
    "    lambda x: is_recent_release(x) if pd.notnull(x) else False\n",
    ")\n"
   ]
  },
  {
   "cell_type": "markdown",
   "metadata": {},
   "source": [
    "Se ha creado una columna is_recent para identificar títulos lanzados en los últimos 5 años, donde se ha puesto un True/False que identifica si el título es reciente."
   ]
  },
  {
   "cell_type": "code",
   "execution_count": 8,
   "metadata": {},
   "outputs": [],
   "source": [
    "#Clasificación de películas por década\n",
    "\n",
    "def classify_decade(year):\n",
    "    if pd.notnull(year):\n",
    "        decade_start = (year // 10) * 10\n",
    "        return f\"{decade_start}s\"\n",
    "    return \"Unknown\"\n",
    "\n",
    "merged_df[\"decade\"] = merged_df[\"date_added\"].dt.year.apply(classify_decade)\n"
   ]
  },
  {
   "cell_type": "markdown",
   "metadata": {},
   "source": [
    "Se ha creado una columna decade que clasifica los títulos en décadas, donde se coloco una columna con la década correspondiente al año de lanzamiento"
   ]
  },
  {
   "cell_type": "code",
   "execution_count": 9,
   "metadata": {},
   "outputs": [],
   "source": [
    "merged_df[\"first_actor\"] = merged_df[\"title\"].apply(\n",
    "    lambda x: str(x).split(\",\")[0] if pd.notnull(x) else \"sin información\"\n",
    ")\n",
    "merged_df[\"first_name_director\"] = merged_df[\"Language\"].apply(\n",
    "    lambda x: str(x).split(\" \")[0] if pd.notnull(x) else \"sin información\"\n",
    ")\n"
   ]
  },
  {
   "cell_type": "markdown",
   "metadata": {},
   "source": [
    "Extraemos el primer actor de la lista cast en la columna title y lo colocamos en first_actor, luego extraemos el primer nombre del director en Language dandonos Nuevas columnas: first_actor y first_name_director."
   ]
  },
  {
   "cell_type": "code",
   "execution_count": 10,
   "metadata": {},
   "outputs": [
    {
     "name": "stderr",
     "output_type": "stream",
     "text": [
      "C:\\Users\\Daniella Guerra\\AppData\\Local\\Temp\\ipykernel_15508\\108665146.py:1: FutureWarning: A value is trying to be set on a copy of a DataFrame or Series through chained assignment using an inplace method.\n",
      "The behavior will change in pandas 3.0. This inplace method will never work because the intermediate object on which we are setting values always behaves as a copy.\n",
      "\n",
      "For example, when doing 'df[col].method(value, inplace=True)', try using 'df.method({col: value}, inplace=True)' or df[col] = df[col].method(value) instead, to perform the operation inplace on the original object.\n",
      "\n",
      "\n",
      "  merged_df[\"title\"].fillna(\"sin información\", inplace=True)\n"
     ]
    }
   ],
   "source": [
    "merged_df[\"title\"].fillna(\"sin información\", inplace=True)\n",
    "merged_df[\"num_cast\"] = merged_df[\"title\"].apply(\n",
    "    lambda x: len(str(x).split(\",\")) if pd.notnull(x) else 0\n",
    ")\n",
    "merged_df[\"title\"] = merged_df[\"title\"].apply(\n",
    "    lambda x: \", \".join([actor.strip() for actor in str(x).split(\",\")])\n",
    "    if pd.notnull(x) else \"sin información\"\n",
    ")\n"
   ]
  },
  {
   "cell_type": "markdown",
   "metadata": {},
   "source": [
    "Previamente, se habia hecho una limpieza de datos para nulos, sin embargo, haciendo el proceso nuevamente reemplazamos valores nulos en la columna title por \"sin información\". Contamos el número de actores en cada entrada (num_cast). Normalizamos los nombres de los actores, eliminando espacios adicionales.\n",
    "por lo que tendremos Nombres normalizados, sin valores nulos, y una nueva columna num_cast."
   ]
  },
  {
   "cell_type": "code",
   "execution_count": null,
   "metadata": {},
   "outputs": [],
   "source": [
    "merged_df[\"first_name_director\"].fillna(\"sin información\", inplace=True)\n",
    "director_counts = merged_df[\"first_name_director\"].value_counts()\n",
    "merged_df[\"recurrent_director\"] = merged_df[\"first_name_director\"].apply(\n",
    "    lambda x: \"Yes\" if director_counts.get(x, 0) > 1 else \"No\"\n",
    ")\n"
   ]
  },
  {
   "cell_type": "markdown",
   "metadata": {},
   "source": [
    "Contamos cuántas veces aparece cada director.\n",
    "Identificamos si un director aparece más de una vez y lo etiquetamos como \"Yes\" o \"No\" en la columna recurrent_director.\n",
    "Donde como resultado tendremos una nueva columna que identifica directores recurrentes."
   ]
  },
  {
   "cell_type": "code",
   "execution_count": 49,
   "metadata": {},
   "outputs": [
    {
     "name": "stdout",
     "output_type": "stream",
     "text": [
      "\n",
      "Géneros en Netflix Originals:\n",
      "Genre\n",
      "Documentary                             132\n",
      "Drama                                    73\n",
      "Comedy                                   42\n",
      "Romantic comedy                          35\n",
      "Thriller                                 33\n",
      "                                       ... \n",
      "Action-adventure                          1\n",
      "Concert Film                              1\n",
      "Animation / Science Fiction               1\n",
      "Anthology/Dark comedy                     1\n",
      "Animation/Christmas/Comedy/Adventure      1\n",
      "Name: count, Length: 106, dtype: int64\n",
      "\n",
      "Géneros en Netflix Titles:\n",
      "listed_in\n",
      "Dramas, International Movies                        362\n",
      "Documentaries                                       359\n",
      "Stand-Up Comedy                                     334\n",
      "Comedies, Dramas, International Movies              274\n",
      "Dramas, Independent Movies, International Movies    252\n",
      "                                                   ... \n",
      "Action & Adventure, Cult Movies                       1\n",
      "Action & Adventure, Comedies, Music & Musicals        1\n",
      "Classic Movies, Horror Movies, Thrillers              1\n",
      "Children & Family Movies, Classic Movies, Dramas      1\n",
      "Cult Movies, Dramas, Thrillers                        1\n",
      "Name: count, Length: 514, dtype: int64\n"
     ]
    }
   ],
   "source": [
    "# Géneros en ambos datasets\n",
    "print(\"\\nGéneros en Netflix Originals:\")\n",
    "print(df_originals['Genre'].value_counts())\n",
    "\n",
    "print(\"\\nGéneros en Netflix Titles:\")\n",
    "print(df_titles['listed_in'].value_counts())\n"
   ]
  },
  {
   "cell_type": "code",
   "execution_count": 62,
   "metadata": {},
   "outputs": [
    {
     "name": "stdout",
     "output_type": "stream",
     "text": [
      "Distribución de idiomas en Netflix Originals:\n",
      "Language\n",
      "English                       352\n",
      "Hindi                          28\n",
      "Spanish                        26\n",
      "French                         18\n",
      "Italian                        14\n",
      "Portuguese                      9\n",
      "Indonesian                      9\n",
      "Japanese                        5\n",
      "English/Spanish                 5\n",
      "Korean                          5\n",
      "Turkish                         4\n",
      "German                          4\n",
      "Marathi                         3\n",
      "Polish                          3\n",
      "English/Japanese                2\n",
      "Dutch                           2\n",
      "Filipino                        2\n",
      "Thai                            2\n",
      "English/Hindi                   2\n",
      "Norwegian                       1\n",
      "Malay                           1\n",
      "Swedish                         1\n",
      "Spanish/Basque                  1\n",
      "English/Swedish                 1\n",
      "Spanish/Catalan                 1\n",
      "English/Taiwanese/Mandarin      1\n",
      "Thia/English                    1\n",
      "Bengali                         1\n",
      "Khmer/English/French            1\n",
      "Tamil                           1\n",
      "Spanish/English                 1\n",
      "English/Korean                  1\n",
      "English/Arabic                  1\n",
      "English/Mandarin                1\n",
      "English/Russian                 1\n",
      "English/Akan                    1\n",
      "English/Ukranian/Russian        1\n",
      "Name: count, dtype: int64\n",
      "\n",
      "Distribución de países en Netflix Titles:\n",
      "country\n",
      "United States                                             2812\n",
      "India                                                      972\n",
      "Unknown Country                                            830\n",
      "United Kingdom                                             418\n",
      "Japan                                                      244\n",
      "                                                          ... \n",
      "Germany, Canada, United States                               1\n",
      "Denmark, United Kingdom, South Africa, Sweden, Belgium       1\n",
      "Serbia, South Korea, Slovenia                                1\n",
      "United Kingdom, Spain, Belgium                               1\n",
      "South Africa, United States, Japan                           1\n",
      "Name: count, Length: 749, dtype: int64\n"
     ]
    }
   ],
   "source": [
    "# Países en Netflix Originals (columna 'Language' como proxy)\n",
    "country_distribution_originals = df_originals['Language'].value_counts()\n",
    "print(\"Distribución de idiomas en Netflix Originals:\")\n",
    "print(country_distribution_originals)\n",
    "\n",
    "# Países en Netflix Titles\n",
    "country_distribution_titles = df_titles['country'].value_counts()\n",
    "print(\"\\nDistribución de países en Netflix Titles:\")\n",
    "print(country_distribution_titles)\n"
   ]
  },
  {
   "cell_type": "code",
   "execution_count": 11,
   "metadata": {},
   "outputs": [
    {
     "name": "stdout",
     "output_type": "stream",
     "text": [
      "Index(['Unnamed: 0', 'show_id', 'type', 'title', 'director', 'cast', 'country',\n",
      "       'date_added', 'release_year', 'rating', 'duration', 'listed_in',\n",
      "       'description'],\n",
      "      dtype='object')\n"
     ]
    }
   ],
   "source": [
    "print(df_titles.columns)\n"
   ]
  },
  {
   "cell_type": "code",
   "execution_count": 64,
   "metadata": {},
   "outputs": [
    {
     "name": "stdout",
     "output_type": "stream",
     "text": [
      "\n",
      "Distribución de géneros por país en Netflix Titles:\n",
      "country            listed_in                                                        \n",
      ", France, Algeria  Dramas, Independent Movies, International Movies                     1\n",
      ", South Korea      International TV Shows, TV Dramas                                    1\n",
      "Argentina          Stand-Up Comedy                                                      8\n",
      "                   Crime TV Shows, International TV Shows, Spanish-Language TV Shows    6\n",
      "                   Dramas, International Movies                                         6\n",
      "                   Documentaries, International Movies, Sports Movies                   4\n",
      "                   Comedies, Cult Movies, International Movies                          2\n",
      "                   Documentaries, International Movies                                  2\n",
      "                   Dramas, Independent Movies, International Movies                     2\n",
      "                   Dramas, International Movies, Thrillers                              2\n",
      "Name: count, dtype: int64\n"
     ]
    }
   ],
   "source": [
    "# Géneros por país en Netflix Titles\n",
    "genres_by_country = df_titles.groupby('country')['listed_in'].value_counts().head(10)\n",
    "print(\"\\nDistribución de géneros por país en Netflix Titles:\")\n",
    "print(genres_by_country)\n"
   ]
  },
  {
   "cell_type": "markdown",
   "metadata": {},
   "source": [
    "Unión de Datos"
   ]
  },
  {
   "cell_type": "code",
   "execution_count": 66,
   "metadata": {},
   "outputs": [
    {
     "name": "stdout",
     "output_type": "stream",
     "text": [
      "   Unnamed: 0_x show_id     type                  title         director  \\\n",
      "0             0      s1    Movie   Dick Johnson Is Dead  Kirsten Johnson   \n",
      "1             1      s2  TV Show          Blood & Water      Desconocido   \n",
      "2             2      s3  TV Show              Ganglands  Julien Leclercq   \n",
      "3             3      s4  TV Show  Jailbirds New Orleans      Desconocido   \n",
      "4             4      s5  TV Show           Kota Factory      Desconocido   \n",
      "\n",
      "                                                cast          country  \\\n",
      "0                                   Cast Desconocido    United States   \n",
      "1  Ama Qamata, Khosi Ngema, Gail Mabalane, Thaban...     South Africa   \n",
      "2  Sami Bouajila, Tracy Gotoas, Samuel Jouy, Nabi...  Unknown Country   \n",
      "3                                   Cast Desconocido  Unknown Country   \n",
      "4  Mayur More, Jitendra Kumar, Ranjan Raj, Alam K...            India   \n",
      "\n",
      "           date_added  release_year rating          duration  \\\n",
      "0  September 25, 2021          2020  PG-13            90 min   \n",
      "1  September 24, 2021          2021  TV-MA         2 Seasons   \n",
      "2  September 24, 2021          2021  TV-MA  Unknown Duration   \n",
      "3  September 24, 2021          2021  TV-MA  Unknown Duration   \n",
      "4  September 24, 2021          2021  TV-MA         2 Seasons   \n",
      "\n",
      "                                           listed_in  \\\n",
      "0                                      Documentaries   \n",
      "1    International TV Shows, TV Dramas, TV Mysteries   \n",
      "2  Crime TV Shows, International TV Shows, TV Act...   \n",
      "3                             Docuseries, Reality TV   \n",
      "4  International TV Shows, Romantic TV Shows, TV ...   \n",
      "\n",
      "                                         description  Unnamed: 0_y  \\\n",
      "0  As her father nears the end of his life, filmm...         535.0   \n",
      "1  After crossing paths at a party, a Cape Town t...           NaN   \n",
      "2  To protect his family from a powerful drug lor...           NaN   \n",
      "3  Feuds, flirtations and toilet talk go down amo...           NaN   \n",
      "4  In a city of coaching centers known to train I...           NaN   \n",
      "\n",
      "                  Title        Genre         Premiere  Runtime  IMDB Score  \\\n",
      "0  Dick Johnson Is Dead  Documentary  October 2, 2020     90.0         7.5   \n",
      "1                   NaN          NaN              NaN      NaN         NaN   \n",
      "2                   NaN          NaN              NaN      NaN         NaN   \n",
      "3                   NaN          NaN              NaN      NaN         NaN   \n",
      "4                   NaN          NaN              NaN      NaN         NaN   \n",
      "\n",
      "  Language  \n",
      "0  English  \n",
      "1      NaN  \n",
      "2      NaN  \n",
      "3      NaN  \n",
      "4      NaN  \n"
     ]
    }
   ],
   "source": [
    "# Realizar la unión\n",
    "merged_df = pd.merge(df_titles, df_originals, left_on='title', right_on='Title', how='left')\n",
    "\n",
    "# Mostrar las primeras filas del DataFrame combinado\n",
    "print(merged_df.head())\n"
   ]
  },
  {
   "cell_type": "code",
   "execution_count": 67,
   "metadata": {},
   "outputs": [
    {
     "name": "stdout",
     "output_type": "stream",
     "text": [
      "Producciones originales en Netflix Titles: 513\n",
      "Títulos adquiridos en Netflix Titles: 8284\n"
     ]
    }
   ],
   "source": [
    "# Contar producciones originales y adquiridas\n",
    "originals_count = merged_df['Title'].notnull().sum()\n",
    "acquired_count = merged_df['Title'].isnull().sum()\n",
    "\n",
    "print(f\"Producciones originales en Netflix Titles: {originals_count}\")\n",
    "print(f\"Títulos adquiridos en Netflix Titles: {acquired_count}\")\n"
   ]
  },
  {
   "cell_type": "code",
   "execution_count": 15,
   "metadata": {},
   "outputs": [
    {
     "name": "stdout",
     "output_type": "stream",
     "text": [
      "Producciones originales: 513\n",
      "Producciones adquiridas: 8294\n",
      "Porcentaje de producciones originales: 5.82%\n"
     ]
    }
   ],
   "source": [
    "\n",
    "originals_count = merged_df[\"Title\"].notnull().sum()\n",
    "\n",
    "\n",
    "acquired_count = merged_df[\"Title\"].isnull().sum()\n",
    "\n",
    "total_titles = originals_count + acquired_count\n",
    "\n",
    "\n",
    "percentage_originals = (originals_count / total_titles) * 100\n",
    "\n",
    "print(f\"Producciones originales: {originals_count}\")\n",
    "print(f\"Producciones adquiridas: {acquired_count}\")\n",
    "print(f\"Porcentaje de producciones originales: {percentage_originals:.2f}%\")\n"
   ]
  },
  {
   "cell_type": "code",
   "execution_count": 16,
   "metadata": {},
   "outputs": [
    {
     "name": "stdout",
     "output_type": "stream",
     "text": [
      "Porcentaje de producciones originales: 5.82%\n"
     ]
    }
   ],
   "source": [
    "total_titles = originals_count + acquired_count\n",
    "percentage_originals = (originals_count / total_titles) * 100\n",
    "\n",
    "print(f\"Porcentaje de producciones originales: {percentage_originals:.2f}%\")\n"
   ]
  },
  {
   "cell_type": "markdown",
   "metadata": {},
   "source": [
    "Este porcentaje bajo refleja que las producciones originales son selectivas, probablemente orientadas a diferenciar la marca Netflix y atraer audiencias específicas.\n",
    "Aunque representan una pequeña parte del catálogo, suelen recibir un mayor enfoque en marketing y promoción.\n",
    "Dependencia del Contenido Adquirido:\n",
    "\n",
    "El 94.17% restante del catálogo corresponde a contenido adquirido.\n",
    "Esto muestra que Netflix complementa sus producciones originales con adquisiciones para ofrecer un catálogo amplio y diverso que pueda satisfacer diferentes nichos de audiencia."
   ]
  },
  {
   "cell_type": "code",
   "execution_count": 68,
   "metadata": {},
   "outputs": [
    {
     "name": "stdout",
     "output_type": "stream",
     "text": [
      "Puntuación IMDB promedio de producciones originales: 6.21\n",
      "Puntuación IMDB promedio de títulos adquiridos: nan\n"
     ]
    }
   ],
   "source": [
    "# Puntuación IMDB promedio de originales\n",
    "originals_imdb_mean = merged_df[merged_df['Title'].notnull()]['IMDB Score'].mean()\n",
    "\n",
    "# Puntuación IMDB promedio de adquiridos\n",
    "acquired_imdb_mean = merged_df[merged_df['Title'].isnull()]['IMDB Score'].mean()\n",
    "\n",
    "print(f\"Puntuación IMDB promedio de producciones originales: {originals_imdb_mean:.2f}\")\n",
    "print(f\"Puntuación IMDB promedio de títulos adquiridos: {acquired_imdb_mean:.2f}\")\n"
   ]
  },
  {
   "cell_type": "code",
   "execution_count": 70,
   "metadata": {},
   "outputs": [
    {
     "name": "stdout",
     "output_type": "stream",
     "text": [
      "\n",
      "Puntuación IMDB promedio por país:\n",
      "country\n",
      "Argentina                                 6.420000\n",
      "Australia, United States                  7.600000\n",
      "Austria                                   6.850000\n",
      "Belgium, Netherlands                      7.100000\n",
      "Belgium, United Kingdom, United States    5.300000\n",
      "                                            ...   \n",
      "United States, United Kingdom             8.200000\n",
      "United States, United Kingdom, Canada     6.700000\n",
      "United States, United Kingdom, Germany    6.600000\n",
      "United States, United Kingdom, India      7.800000\n",
      "Unknown Country                           6.421429\n",
      "Name: IMDB Score, Length: 82, dtype: float64\n"
     ]
    }
   ],
   "source": [
    "# Puntuación IMDB promedio por país en producciones originales\n",
    "imdb_by_country = merged_df[merged_df['Title'].notnull()].groupby('country')['IMDB Score'].mean()\n",
    "\n",
    "print(\"\\nPuntuación IMDB promedio por país:\")\n",
    "print(imdb_by_country)\n"
   ]
  },
  {
   "cell_type": "markdown",
   "metadata": {},
   "source": [
    "Las coproducciones entre Estados Unidos y otros países, especialmente el Reino Unido y la India, tienden a recibir puntuaciones IMDB más altas, lo que podría deberse a mayores presupuestos o alcance global.\n",
    "Los países con puntuaciones más bajas, como Belgium, United Kingdom, United States (5.3), podrían reflejar experimentos menos exitosos en términos de recepción.\n",
    "Netflix parece tener un impacto global significativo, con representaciones variadas en las puntuaciones.\n"
   ]
  },
  {
   "cell_type": "code",
   "execution_count": 17,
   "metadata": {},
   "outputs": [
    {
     "name": "stdout",
     "output_type": "stream",
     "text": [
      "\n",
      "Producciones originales mejor calificadas:\n",
      "                                            title  IMDB Score  \\\n",
      "1886     David Attenborough: A Life on Our Planet         9.0   \n",
      "4293                      Springsteen on Broadway         8.5   \n",
      "5893  Winter on Fire: Ukraine's Fight for Freedom         8.4   \n",
      "3386                       Dancing with the Birds         8.3   \n",
      "5152                       Cuba and the Cameraman         8.3   \n",
      "3273                                        Klaus         8.2   \n",
      "1857        The Three Deaths of Marisela Escobedo         8.2   \n",
      "1171                                   Seaspiracy         8.2   \n",
      "2097                               Rising Phoenix         8.1   \n",
      "2038                           My Octopus Teacher         8.1   \n",
      "\n",
      "                                     Genre  \\\n",
      "1886                           Documentary   \n",
      "4293                          One-man show   \n",
      "5893                           Documentary   \n",
      "3386                           Documentary   \n",
      "5152                           Documentary   \n",
      "3273  Animation/Christmas/Comedy/Adventure   \n",
      "1857                           Documentary   \n",
      "1171                           Documentary   \n",
      "2097                           Documentary   \n",
      "2038                           Documentary   \n",
      "\n",
      "                                     country  \n",
      "1886           United States, United Kingdom  \n",
      "4293                           United States  \n",
      "5893  United Kingdom, Ukraine, United States  \n",
      "3386                           United States  \n",
      "5152                           United States  \n",
      "3273                   Spain, United Kingdom  \n",
      "1857                                  Mexico  \n",
      "1171                           United States  \n",
      "2097                          United Kingdom  \n",
      "2038                            South Africa  \n"
     ]
    }
   ],
   "source": [
    "# Títulos originales mejor calificados\n",
    "top_originals = merged_df[merged_df['Title'].notnull()].sort_values(by='IMDB Score', ascending=False).head(10)\n",
    "\n",
    "print(\"\\nProducciones originales mejor calificadas:\")\n",
    "print(top_originals[['title', 'IMDB Score', 'Genre', 'country']])"
   ]
  },
  {
   "cell_type": "markdown",
   "metadata": {},
   "source": [
    "Netflix ha logrado producir contenido original de alta calidad, especialmente en el género documental, que domina las producciones mejor calificadas.\n",
    "La diversidad geográfica y de temáticas sugiere una estrategia intencionada para abarcar tanto el mercado global como temas de relevancia universal.\n",
    "Este éxito en producciones originales fortalece la marca Netflix como una plataforma que prioriza la calidad en lugar de la cantidad en sus contenidos originales."
   ]
  },
  {
   "cell_type": "markdown",
   "metadata": {},
   "source": [
    "\n",
    "Siguientes Pasos\n",
    "Monitorear la evolución de las calificaciones de IMDB en producciones originales para medir el impacto de los nuevos lanzamientos.\n",
    "Evaluar las tendencias anuales para identificar si el crecimiento del contenido original sigue un patrón predecible.\n",
    "Profundizar en el análisis de géneros menos comunes para detectar oportunidades de crecimiento en áreas de nicho."
   ]
  },
  {
   "cell_type": "code",
   "execution_count": 14,
   "metadata": {},
   "outputs": [
    {
     "name": "stdout",
     "output_type": "stream",
     "text": [
      "   Unnamed: 0            Title                  Genre           Premiere  \\\n",
      "0           0  Enter the Anime            Documentary     August 5, 2019   \n",
      "1           1      Dark Forces               Thriller    August 21, 2020   \n",
      "2           2          The App  Science fiction/Drama  December 26, 2019   \n",
      "3           3   The Open House        Horror thriller   January 19, 2018   \n",
      "4           4      Kaali Khuhi                Mystery   October 30, 2020   \n",
      "\n",
      "   Runtime  IMDB Score          Language  \n",
      "0       58         2.5  English/Japanese  \n",
      "1       81         2.6           Spanish  \n",
      "2       79         2.6           Italian  \n",
      "3       94         3.2           English  \n",
      "4       90         3.4             Hindi  \n",
      "   Unnamed: 0 show_id     type                  title         director  \\\n",
      "0           0      s1    Movie   Dick Johnson Is Dead  Kirsten Johnson   \n",
      "1           1      s2  TV Show          Blood & Water              NaN   \n",
      "2           2      s3  TV Show              Ganglands  Julien Leclercq   \n",
      "3           3      s4  TV Show  Jailbirds New Orleans              NaN   \n",
      "4           4      s5  TV Show           Kota Factory              NaN   \n",
      "\n",
      "                                                cast        country  \\\n",
      "0                                                NaN  United States   \n",
      "1  Ama Qamata, Khosi Ngema, Gail Mabalane, Thaban...   South Africa   \n",
      "2  Sami Bouajila, Tracy Gotoas, Samuel Jouy, Nabi...            NaN   \n",
      "3                                                NaN            NaN   \n",
      "4  Mayur More, Jitendra Kumar, Ranjan Raj, Alam K...          India   \n",
      "\n",
      "           date_added  release_year rating   duration  \\\n",
      "0  September 25, 2021          2020  PG-13     90 min   \n",
      "1  September 24, 2021          2021  TV-MA  2 Seasons   \n",
      "2  September 24, 2021          2021  TV-MA        NaN   \n",
      "3  September 24, 2021          2021  TV-MA        NaN   \n",
      "4  September 24, 2021          2021  TV-MA  2 Seasons   \n",
      "\n",
      "                                           listed_in  \\\n",
      "0                                      Documentaries   \n",
      "1    International TV Shows, TV Dramas, TV Mysteries   \n",
      "2  Crime TV Shows, International TV Shows, TV Act...   \n",
      "3                             Docuseries, Reality TV   \n",
      "4  International TV Shows, Romantic TV Shows, TV ...   \n",
      "\n",
      "                                         description  \n",
      "0  As her father nears the end of his life, filmm...  \n",
      "1  After crossing paths at a party, a Cape Town t...  \n",
      "2  To protect his family from a powerful drug lor...  \n",
      "3  Feuds, flirtations and toilet talk go down amo...  \n",
      "4  In a city of coaching centers known to train I...  \n"
     ]
    }
   ],
   "source": [
    "\n",
    "df_originals = pd.read_csv('C:/Users/Daniella Guerra/Desktop/Python - Pandas/Netflix_Project/datos/netflix_originals.csv')\n",
    "df_titles = pd.read_csv('C:/Users/Daniella Guerra/Desktop/Python - Pandas/Netflix_Project/datos/netflix_titles.csv')\n",
    "\n",
    "# Verificar las primeras filas para confirmar la carga\n",
    "print(df_originals.head())\n",
    "print(df_titles.head())\n"
   ]
  },
  {
   "cell_type": "code",
   "execution_count": null,
   "metadata": {},
   "outputs": [
    {
     "name": "stdout",
     "output_type": "stream",
     "text": [
      "   Unnamed: 0_x show_id     type                  title         director  \\\n",
      "0             0      s1    Movie   Dick Johnson Is Dead  Kirsten Johnson   \n",
      "1             1      s2  TV Show          Blood & Water              NaN   \n",
      "2             2      s3  TV Show              Ganglands  Julien Leclercq   \n",
      "3             3      s4  TV Show  Jailbirds New Orleans              NaN   \n",
      "4             4      s5  TV Show           Kota Factory              NaN   \n",
      "\n",
      "                                                cast        country  \\\n",
      "0                                                NaN  United States   \n",
      "1  Ama Qamata, Khosi Ngema, Gail Mabalane, Thaban...   South Africa   \n",
      "2  Sami Bouajila, Tracy Gotoas, Samuel Jouy, Nabi...            NaN   \n",
      "3                                                NaN            NaN   \n",
      "4  Mayur More, Jitendra Kumar, Ranjan Raj, Alam K...          India   \n",
      "\n",
      "           date_added  release_year rating   duration  \\\n",
      "0  September 25, 2021          2020  PG-13     90 min   \n",
      "1  September 24, 2021          2021  TV-MA  2 Seasons   \n",
      "2  September 24, 2021          2021  TV-MA        NaN   \n",
      "3  September 24, 2021          2021  TV-MA        NaN   \n",
      "4  September 24, 2021          2021  TV-MA  2 Seasons   \n",
      "\n",
      "                                           listed_in  \\\n",
      "0                                      Documentaries   \n",
      "1    International TV Shows, TV Dramas, TV Mysteries   \n",
      "2  Crime TV Shows, International TV Shows, TV Act...   \n",
      "3                             Docuseries, Reality TV   \n",
      "4  International TV Shows, Romantic TV Shows, TV ...   \n",
      "\n",
      "                                         description  Unnamed: 0_y  \\\n",
      "0  As her father nears the end of his life, filmm...         535.0   \n",
      "1  After crossing paths at a party, a Cape Town t...           NaN   \n",
      "2  To protect his family from a powerful drug lor...           NaN   \n",
      "3  Feuds, flirtations and toilet talk go down amo...           NaN   \n",
      "4  In a city of coaching centers known to train I...           NaN   \n",
      "\n",
      "                  Title        Genre         Premiere  Runtime  IMDB Score  \\\n",
      "0  Dick Johnson Is Dead  Documentary  October 2, 2020     90.0         7.5   \n",
      "1                   NaN          NaN              NaN      NaN         NaN   \n",
      "2                   NaN          NaN              NaN      NaN         NaN   \n",
      "3                   NaN          NaN              NaN      NaN         NaN   \n",
      "4                   NaN          NaN              NaN      NaN         NaN   \n",
      "\n",
      "  Language  \n",
      "0  English  \n",
      "1      NaN  \n",
      "2      NaN  \n",
      "3      NaN  \n",
      "4      NaN  \n"
     ]
    }
   ],
   "source": [
    "merged_df = pd.merge(\n",
    "    df_titles,\n",
    "    df_originals,\n",
    "    how='left',  # O el tipo de unión que hayas definido\n",
    "    left_on='title',\n",
    "    right_on='Title'\n",
    ")\n",
    "\n",
    "# Verifica que la unión se realizó correctamente\n",
    "print(merged_df.head())\n",
    "\n"
   ]
  },
  {
   "cell_type": "code",
   "execution_count": 16,
   "metadata": {},
   "outputs": [
    {
     "name": "stdout",
     "output_type": "stream",
     "text": [
      "6                        My Little Pony: A New Generation\n",
      "9                                            The Starling\n",
      "12                                           Je Suis Karl\n",
      "13                       Confessions of an Invisible Girl\n",
      "18                                              Intrusion\n",
      "                              ...                        \n",
      "1425                          Creating The Queen's Gambit\n",
      "1431                                          Stuck Apart\n",
      "1436    Ratones Paranoicos: The Band that Rocked Argen...\n",
      "1466                         The Minimalists: Less Is Now\n",
      "1468                            What Happened to Mr. Cha?\n",
      "Name: title, Length: 277, dtype: object\n"
     ]
    }
   ],
   "source": [
    "movies_2021 = merged_df.loc[(merged_df['release_year'] == 2021) & (merged_df['type'] == 'Movie'), 'title']\n",
    "print(movies_2021)"
   ]
  },
  {
   "cell_type": "code",
   "execution_count": 17,
   "metadata": {},
   "outputs": [
    {
     "name": "stdout",
     "output_type": "stream",
     "text": [
      "                                title duration\n",
      "0                Dick Johnson Is Dead   90 min\n",
      "94                          Show Dogs   90 min\n",
      "107                  A Champion Heart   90 min\n",
      "229                      The Old Ways   90 min\n",
      "283              Misha and the Wolves   90 min\n",
      "...                               ...      ...\n",
      "8651                            Tyson   90 min\n",
      "8655             Unaccompanied Minors   90 min\n",
      "8670                    Vantage Point   90 min\n",
      "8735  Who's That Knocking at My Door?   90 min\n",
      "8776                       Yellowbird   90 min\n",
      "\n",
      "[152 rows x 2 columns]\n"
     ]
    }
   ],
   "source": [
    "titles_90_min = merged_df.loc[merged_df['duration'] == '90 min', ['title', 'duration']]\n",
    "print(titles_90_min)"
   ]
  },
  {
   "cell_type": "code",
   "execution_count": 19,
   "metadata": {},
   "outputs": [
    {
     "name": "stdout",
     "output_type": "stream",
     "text": [
      "4                      Kota Factory\n",
      "39                     Chhota Bheem\n",
      "126                         Shikara\n",
      "190                      Thimmarusu\n",
      "266            The Creative Indians\n",
      "                   ...             \n",
      "5966                         15-Aug\n",
      "6024                      7 (Seven)\n",
      "6464    Chhota Bheem Kungfu Dhamaka\n",
      "8121                    Super Bheem\n",
      "8173                      Thackeray\n",
      "Name: title, Length: 193, dtype: object\n"
     ]
    }
   ],
   "source": [
    "india_titles = merged_df.loc[(merged_df['country'] == 'India') & (merged_df['release_year'] > 2018), 'title']\n",
    "print(india_titles)"
   ]
  },
  {
   "cell_type": "code",
   "execution_count": 20,
   "metadata": {},
   "outputs": [
    {
     "name": "stdout",
     "output_type": "stream",
     "text": [
      "8                         The Great British Baking Show\n",
      "18                                            Intrusion\n",
      "20      Monsters Inside: The 24 Faces of Billy Milligan\n",
      "21                               Resurrection: Ertugrul\n",
      "24                                                Jeans\n",
      "                             ...                       \n",
      "8794                                             اشتباك\n",
      "8799                                              Zenda\n",
      "8802                                             Zodiac\n",
      "8804                                         Zombieland\n",
      "8806                                             Zubaan\n",
      "Name: title, Length: 2959, dtype: object\n"
     ]
    }
   ],
   "source": [
    "tv14_r_titles = merged_df.loc[merged_df['rating'].isin(['TV-14', 'R']), 'title']\n",
    "print(tv14_r_titles)"
   ]
  },
  {
   "cell_type": "code",
   "execution_count": 21,
   "metadata": {},
   "outputs": [
    {
     "name": "stdout",
     "output_type": "stream",
     "text": [
      "director\n",
      "Martin Scorsese      12\n",
      "Christopher Nolan     1\n",
      "Name: count, dtype: int64\n"
     ]
    }
   ],
   "source": [
    "directors_titles = merged_df.loc[merged_df['director'].isin(['Christopher Nolan', 'Martin Scorsese']), 'director']\n",
    "print(directors_titles.value_counts())"
   ]
  },
  {
   "cell_type": "code",
   "execution_count": 22,
   "metadata": {},
   "outputs": [
    {
     "name": "stdout",
     "output_type": "stream",
     "text": [
      "0\n"
     ]
    }
   ],
   "source": [
    "countries = ['United States', 'United Kingdom', 'Canada']\n",
    "titles_countries = merged_df.loc[merged_df['country'].isin(countries)]\n",
    "multilingual_count = titles_countries['Language'].str.contains(',', na=False).sum()\n",
    "print(multilingual_count)"
   ]
  },
  {
   "cell_type": "code",
   "execution_count": 23,
   "metadata": {},
   "outputs": [
    {
     "name": "stdout",
     "output_type": "stream",
     "text": [
      "0                                    Dick Johnson Is Dead\n",
      "16      Europe's Most Dangerous Man: Otto Skorzeny in ...\n",
      "17                                        Falsa identidad\n",
      "21                                 Resurrection: Ertugrul\n",
      "32                                          Sex Education\n",
      "                              ...                        \n",
      "8796                                           Yunus Emre\n",
      "8797                                            Zak Storm\n",
      "8801                                              Zinzana\n",
      "8803                                          Zombie Dumb\n",
      "8806                                               Zubaan\n",
      "Name: title, Length: 5624, dtype: object\n"
     ]
    }
   ],
   "source": [
    "titles_2015_2020 = merged_df.loc[merged_df['release_year'].between(2015, 2020), 'title']\n",
    "print(titles_2015_2020)"
   ]
  },
  {
   "cell_type": "code",
   "execution_count": 24,
   "metadata": {},
   "outputs": [
    {
     "name": "stdout",
     "output_type": "stream",
     "text": [
      "Series([], Name: title, dtype: object)\n"
     ]
    }
   ],
   "source": [
    "titles_imdb_duration = merged_df.loc[(merged_df['IMDB Score'].between(6.5, 8.0)) & (merged_df['duration'] == 'Unknown Duration'), 'title']\n",
    "print(titles_imdb_duration)"
   ]
  },
  {
   "cell_type": "code",
   "execution_count": null,
   "metadata": {},
   "outputs": [
    {
     "name": "stdout",
     "output_type": "stream",
     "text": [
      "0                Dick Johnson Is Dead\n",
      "7                             Sankofa\n",
      "9                        The Starling\n",
      "12                       Je Suis Karl\n",
      "26                     Minsara Kanavu\n",
      "                    ...              \n",
      "8790    You Don't Mess with the Zohan\n",
      "8794                           اشتباك\n",
      "8798                         Zed Plus\n",
      "8799                            Zenda\n",
      "8806                           Zubaan\n",
      "Name: title, Length: 1982, dtype: object\n"
     ]
    },
    {
     "name": "stderr",
     "output_type": "stream",
     "text": [
      "C:\\Users\\Daniella Guerra\\AppData\\Local\\Temp\\ipykernel_15508\\710724212.py:8: SettingWithCopyWarning: \n",
      "A value is trying to be set on a copy of a slice from a DataFrame.\n",
      "Try using .loc[row_indexer,col_indexer] = value instead\n",
      "\n",
      "See the caveats in the documentation: https://pandas.pydata.org/pandas-docs/stable/user_guide/indexing.html#returning-a-view-versus-a-copy\n",
      "  movies_duration[\"numeric_duration\"] = movies_duration[\"duration\"].str.replace(\" min\", \"\").astype(float)\n"
     ]
    }
   ],
   "source": [
    "\n",
    "movies_duration = merged_df.loc[\n",
    "    (merged_df[\"type\"] == \"Movie\") & \n",
    "    (merged_df[\"duration\"].str.contains(\"min\", na=False)), :\n",
    "]\n",
    "\n",
    "movies_duration[\"numeric_duration\"] = movies_duration[\"duration\"].str.replace(\" min\", \"\").astype(float)\n",
    "\n",
    "\n",
    "filtered_movies = movies_duration.loc[\n",
    "    movies_duration[\"numeric_duration\"].between(90, 150), \"title\"\n",
    "]\n",
    "\n",
    "\n",
    "print(filtered_movies)\n"
   ]
  },
  {
   "cell_type": "code",
   "execution_count": 37,
   "metadata": {},
   "outputs": [
    {
     "name": "stdout",
     "output_type": "stream",
     "text": [
      "['90 min' '2 Seasons' nan '125 min' '9 Seasons' '104 min' '127 min'\n",
      " '161 min' '61 min' '166 min' '147 min' '111 min' '110 min' '124 min'\n",
      " '116 min' '98 min' '23 min' '122 min' '85 min' '83 min' '113 min'\n",
      " '13 min' '182 min' '48 min' '145 min' '80 min' '117 min' '128 min'\n",
      " '119 min' '143 min' '118 min' '63 min' '121 min' '142 min' '154 min'\n",
      " '120 min' '82 min' '229 min' '76 min' '156 min' '112 min' '107 min'\n",
      " '129 min' '135 min' '136 min' '165 min' '150 min' '133 min' '70 min'\n",
      " '84 min' '140 min' '78 min' '7 Seasons' '64 min' '59 min' '139 min'\n",
      " '69 min' '148 min' '189 min' '141 min' '130 min' '138 min' '81 min'\n",
      " '132 min' '10 Seasons' '123 min' '68 min' '66 min' '62 min' '74 min'\n",
      " '131 min' '39 min' '46 min' '38 min' '8 Seasons' '17 Seasons' '126 min'\n",
      " '155 min' '159 min' '137 min' '12 min' '273 min' '36 min' '34 min'\n",
      " '77 min' '60 min' '49 min' '58 min' '204 min' '212 min' '25 min' '73 min'\n",
      " '29 min' '47 min' '32 min' '35 min' '71 min' '149 min' '33 min' '15 min'\n",
      " '54 min' '224 min' '162 min' '37 min' '75 min' '79 min' '55 min'\n",
      " '158 min' '164 min' '173 min' '181 min' '185 min' '21 min' '51 min'\n",
      " '42 min' '22 min' '177 min' '13 Seasons' '52 min' '14 min' '53 min'\n",
      " '8 min' '28 min' '50 min' '9 min' '26 min' '45 min' '171 min' '27 min'\n",
      " '44 min' '146 min' '20 min' '157 min' '17 min' '203 min' '41 min'\n",
      " '30 min' '194 min' '15 Seasons' '233 min' '237 min' '230 min' '195 min'\n",
      " '253 min' '152 min' '190 min' '160 min' '208 min' '180 min' '144 min'\n",
      " '5 min' '174 min' '170 min' '192 min' '209 min' '187 min' '172 min'\n",
      " '16 min' '186 min' '11 min' '193 min' '56 min' '169 min' '40 min'\n",
      " '10 min' '3 min' '168 min' '312 min' '153 min' '214 min' '31 min'\n",
      " '163 min' '19 min' '12 Seasons' '179 min' '11 Seasons' '43 min' '200 min'\n",
      " '196 min' '167 min' '178 min' '228 min' '18 min' '205 min' '201 min'\n",
      " '191 min']\n"
     ]
    }
   ],
   "source": [
    "print(merged_df['duration'].unique())"
   ]
  },
  {
   "cell_type": "code",
   "execution_count": 20,
   "metadata": {},
   "outputs": [],
   "source": [
    "merged_df['duration'] = merged_df['duration'].str.replace(' min', '', regex=False)\n",
    "merged_df['duration'] = pd.to_numeric(merged_df['duration'], errors='coerce')"
   ]
  },
  {
   "cell_type": "code",
   "execution_count": 39,
   "metadata": {},
   "outputs": [
    {
     "name": "stdout",
     "output_type": "stream",
     "text": [
      "0                Dick Johnson Is Dead\n",
      "7                             Sankofa\n",
      "9                        The Starling\n",
      "12                       Je Suis Karl\n",
      "26                     Minsara Kanavu\n",
      "                    ...              \n",
      "8790    You Don't Mess with the Zohan\n",
      "8794                           اشتباك\n",
      "8798                         Zed Plus\n",
      "8799                            Zenda\n",
      "8806                           Zubaan\n",
      "Name: title, Length: 1982, dtype: object\n"
     ]
    }
   ],
   "source": [
    "movies_duration = merged_df.loc[\n",
    "    (merged_df['type'] == 'Movie') & (merged_df['duration'].between(90, 150)),\n",
    "    'title'\n",
    "]\n",
    "print(movies_duration)"
   ]
  },
  {
   "cell_type": "code",
   "execution_count": 21,
   "metadata": {},
   "outputs": [
    {
     "name": "stdout",
     "output_type": "stream",
     "text": [
      "      Unnamed: 0_x show_id   type                 title  \\\n",
      "0                0      s1  Movie  Dick Johnson Is Dead   \n",
      "7                7      s8  Movie               Sankofa   \n",
      "9                9     s10  Movie          The Starling   \n",
      "12              12     s13  Movie          Je Suis Karl   \n",
      "22              22     s23  Movie       Avvai Shanmughi   \n",
      "...            ...     ...    ...                   ...   \n",
      "8794          8794   s8795  Movie                اشتباك   \n",
      "8798          8798   s8799  Movie              Zed Plus   \n",
      "8799          8799   s8800  Movie                 Zenda   \n",
      "8802          8802   s8803  Movie                Zodiac   \n",
      "8806          8806   s8807  Movie                Zubaan   \n",
      "\n",
      "                     director  \\\n",
      "0             Kirsten Johnson   \n",
      "7                Haile Gerima   \n",
      "9              Theodore Melfi   \n",
      "12        Christian Schwochow   \n",
      "22             K.S. Ravikumar   \n",
      "...                       ...   \n",
      "8794             Mohamed Diab   \n",
      "8798  Chandra Prakash Dwivedi   \n",
      "8799           Avadhoot Gupte   \n",
      "8802            David Fincher   \n",
      "8806              Mozez Singh   \n",
      "\n",
      "                                                   cast  \\\n",
      "0                                                   NaN   \n",
      "7     Kofi Ghanaba, Oyafunmike Ogunlano, Alexandra D...   \n",
      "9     Melissa McCarthy, Chris O'Dowd, Kevin Kline, T...   \n",
      "12    Luna Wedler, Jannis Niewöhner, Milan Peschel, ...   \n",
      "22    Kamal Hassan, Meena, Gemini Ganesan, Heera Raj...   \n",
      "...                                                 ...   \n",
      "8794  Nelly Karim, Hany Adel, Tarek Abdel Aziz, Ahme...   \n",
      "8798  Adil Hussain, Mona Singh, K.K. Raina, Sanjay M...   \n",
      "8799  Santosh Juvekar, Siddharth Chandekar, Sachit P...   \n",
      "8802  Mark Ruffalo, Jake Gyllenhaal, Robert Downey J...   \n",
      "8806  Vicky Kaushal, Sarah-Jane Dias, Raaghav Chanan...   \n",
      "\n",
      "                                                country date_added  \\\n",
      "0                                         United States 2021-09-25   \n",
      "7     United States, Ghana, Burkina Faso, United Kin... 2021-09-24   \n",
      "9                                         United States 2021-09-24   \n",
      "12                              Germany, Czech Republic 2021-09-23   \n",
      "22                                                  NaN 2021-09-21   \n",
      "...                                                 ...        ...   \n",
      "8794                                      Egypt, France 2018-10-11   \n",
      "8798                                              India 2019-12-31   \n",
      "8799                                              India 2018-02-15   \n",
      "8802                                      United States 2019-11-20   \n",
      "8806                                              India 2019-03-02   \n",
      "\n",
      "      release_year rating  ... Language duration_cleaned rating_group  \\\n",
      "0             2020  PG-13  ...  English             90.0        Teens   \n",
      "7             1993  TV-MA  ...      NaN            125.0       Adults   \n",
      "9             2021  PG-13  ...      NaN            104.0        Teens   \n",
      "12            2021  TV-MA  ...      NaN            127.0       Adults   \n",
      "22            1996  TV-PG  ...      NaN            161.0      Unknown   \n",
      "...            ...    ...  ...      ...              ...          ...   \n",
      "8794          2016  TV-14  ...      NaN             98.0        Teens   \n",
      "8798          2014  TV-MA  ...      NaN            131.0       Adults   \n",
      "8799          2009  TV-14  ...      NaN            120.0        Teens   \n",
      "8802          2007      R  ...      NaN            158.0       Adults   \n",
      "8806          2015  TV-14  ...      NaN            111.0        Teens   \n",
      "\n",
      "      has_famous_actor is_recent   decade           first_actor  \\\n",
      "0                False      True  2020.0s  Dick Johnson Is Dead   \n",
      "7                False      True  2020.0s               Sankofa   \n",
      "9                False      True  2020.0s          The Starling   \n",
      "12               False      True  2020.0s          Je Suis Karl   \n",
      "22               False      True  2020.0s       Avvai Shanmughi   \n",
      "...                ...       ...      ...                   ...   \n",
      "8794             False     False  2010.0s                اشتباك   \n",
      "8798             False      True  2010.0s              Zed Plus   \n",
      "8799             False     False  2010.0s                 Zenda   \n",
      "8802             False      True  2010.0s                Zodiac   \n",
      "8806             False      True  2010.0s                Zubaan   \n",
      "\n",
      "      first_name_director  num_cast numeric_duration  \n",
      "0                 English         1             90.0  \n",
      "7         sin información         1            125.0  \n",
      "9         sin información         1            104.0  \n",
      "12        sin información         1            127.0  \n",
      "22        sin información         1            161.0  \n",
      "...                   ...       ...              ...  \n",
      "8794      sin información         1             98.0  \n",
      "8798      sin información         1            131.0  \n",
      "8799      sin información         1            120.0  \n",
      "8802      sin información         1            158.0  \n",
      "8806      sin información         1            111.0  \n",
      "\n",
      "[3503 rows x 29 columns]\n"
     ]
    }
   ],
   "source": [
    "print(movies_duration)"
   ]
  },
  {
   "cell_type": "code",
   "execution_count": 26,
   "metadata": {},
   "outputs": [
    {
     "name": "stdout",
     "output_type": "stream",
     "text": [
      "25                    Love on the Spectrum\n",
      "659        Bangkok Love Stories: Innocence\n",
      "731        Love (ft. Marriage and Divorce)\n",
      "883                   Love, Death & Robots\n",
      "1032                          Love Naggers\n",
      "                       ...                \n",
      "7632    O-Negative, Love Can’t Be Designed\n",
      "7892                    Roonpi Secret Love\n",
      "8567        The Year of Happiness and Love\n",
      "8575                       This Is My Love\n",
      "8721                         What Is Love?\n",
      "Name: title, Length: 71, dtype: object\n"
     ]
    }
   ],
   "source": [
    "love_tvshows = merged_df.loc[(merged_df['type'] == 'TV Show') & (merged_df['title'].str.contains('Love', case=False, na=False)), 'title']\n",
    "print(love_tvshows)"
   ]
  },
  {
   "cell_type": "code",
   "execution_count": 27,
   "metadata": {},
   "outputs": [
    {
     "name": "stdout",
     "output_type": "stream",
     "text": [
      "0                         Dick Johnson Is Dead\n",
      "829                           Dog Gone Trouble\n",
      "846                                       Home\n",
      "2052                          Love, Guaranteed\n",
      "2083                      The Debt Collector 2\n",
      "2455                                The Stolen\n",
      "2496                                 Honeytrap\n",
      "3511                                Avengement\n",
      "3717                             Triple Threat\n",
      "4033                                   Juanita\n",
      "4661                        The Debt Collector\n",
      "4698         To All the Boys I’ve Loved Before\n",
      "4833                          Alex Strangelove\n",
      "5282                              Carrie Pilby\n",
      "5536                                 Frat Star\n",
      "6376                                     Brick\n",
      "6553                                  Daffedar\n",
      "6802                             Freshman Year\n",
      "6847                               Ghost Rider\n",
      "7241                    Kung Fu Panda: Holiday\n",
      "7369                                 Mad Money\n",
      "7622                               Nowhere Boy\n",
      "7912                                  S.W.A.T.\n",
      "7946                                Savage Dog\n",
      "8082    Star Wars: Episode VIII: The Last Jedi\n",
      "Name: title, dtype: object\n"
     ]
    }
   ],
   "source": [
    "johnson_titles = merged_df.loc[merged_df['director'].str.contains('Johnson', case=False, na=False), 'title']\n",
    "print(johnson_titles)"
   ]
  },
  {
   "cell_type": "code",
   "execution_count": 28,
   "metadata": {},
   "outputs": [
    {
     "name": "stdout",
     "output_type": "stream",
     "text": [
      "                      title        country  release_year\n",
      "0      Dick Johnson Is Dead  United States          2020\n",
      "1             Blood & Water   South Africa          2021\n",
      "2                 Ganglands            NaN          2021\n",
      "3     Jailbirds New Orleans            NaN          2021\n",
      "4              Kota Factory          India          2021\n",
      "...                     ...            ...           ...\n",
      "8802                 Zodiac  United States          2007\n",
      "8803            Zombie Dumb            NaN          2018\n",
      "8804             Zombieland  United States          2009\n",
      "8805                   Zoom  United States          2006\n",
      "8806                 Zubaan          India          2015\n",
      "\n",
      "[8807 rows x 3 columns]\n"
     ]
    }
   ],
   "source": [
    "selected_columns = merged_df[['title', 'country', 'release_year']]\n",
    "print(selected_columns)"
   ]
  },
  {
   "cell_type": "code",
   "execution_count": 29,
   "metadata": {},
   "outputs": [
    {
     "name": "stdout",
     "output_type": "stream",
     "text": [
      "              date_added\n",
      "0     September 25, 2021\n",
      "1     September 24, 2021\n",
      "2     September 24, 2021\n",
      "3     September 24, 2021\n",
      "4     September 24, 2021\n",
      "...                  ...\n",
      "8802   November 20, 2019\n",
      "8803        July 1, 2019\n",
      "8804    November 1, 2019\n",
      "8805    January 11, 2020\n",
      "8806       March 2, 2019\n",
      "\n",
      "[8807 rows x 1 columns]\n"
     ]
    }
   ],
   "source": [
    "date_columns = merged_df.filter(like='date', axis=1)\n",
    "print(date_columns)"
   ]
  },
  {
   "cell_type": "code",
   "execution_count": 30,
   "metadata": {},
   "outputs": [
    {
     "name": "stdout",
     "output_type": "stream",
     "text": [
      "      Unnamed: 0_x show_id   type title            director  \\\n",
      "5474          5474   s5475  Movie  Arès  Jean-Patrick Benes   \n",
      "\n",
      "                                                   cast country    date_added  \\\n",
      "5474  Ola Rapace, Micha Lescot, Thierry Hancisse, Hé...  France  May 23, 2017   \n",
      "\n",
      "      release_year rating duration  \\\n",
      "5474          2016  TV-MA   80 min   \n",
      "\n",
      "                                              listed_in  \\\n",
      "5474  Action & Adventure, International Movies, Sci-...   \n",
      "\n",
      "                                            description  Unnamed: 0_y Title  \\\n",
      "5474  A futuristic France tries to keep its people f...           NaN   NaN   \n",
      "\n",
      "     Genre Premiere  Runtime  IMDB Score Language  \n",
      "5474   NaN      NaN      NaN         NaN      NaN  \n"
     ]
    }
   ],
   "source": [
    "france_titles = merged_df.query(\"country == 'France' and duration == '80 min'\")\n",
    "print(france_titles)"
   ]
  },
  {
   "cell_type": "code",
   "execution_count": 31,
   "metadata": {},
   "outputs": [
    {
     "name": "stdout",
     "output_type": "stream",
     "text": [
      "7                    Sankofa\n",
      "22           Avvai Shanmughi\n",
      "24                     Jeans\n",
      "26            Minsara Kanavu\n",
      "41                      Jaws\n",
      "                ...         \n",
      "8793    Yours, Mine and Ours\n",
      "8799                   Zenda\n",
      "8802                  Zodiac\n",
      "8804              Zombieland\n",
      "8805                    Zoom\n",
      "Name: title, Length: 1153, dtype: object\n"
     ]
    }
   ],
   "source": [
    "movies_before_2010 = merged_df.loc[(merged_df['type'] == 'Movie') & (merged_df['release_year'] < 2010), 'title']\n",
    "print(movies_before_2010)"
   ]
  },
  {
   "cell_type": "code",
   "execution_count": 32,
   "metadata": {},
   "outputs": [
    {
     "name": "stdout",
     "output_type": "stream",
     "text": [
      "                                            title  IMDB Score\n",
      "1886     David Attenborough: A Life on Our Planet         9.0\n",
      "4293                      Springsteen on Broadway         8.5\n",
      "5893  Winter on Fire: Ukraine's Fight for Freedom         8.4\n",
      "3386                       Dancing with the Birds         8.3\n",
      "5152                       Cuba and the Cameraman         8.3\n",
      "1171                                   Seaspiracy         8.2\n",
      "1857        The Three Deaths of Marisela Escobedo         8.2\n",
      "3273                                        Klaus         8.2\n",
      "2038                           My Octopus Teacher         8.1\n",
      "2097                               Rising Phoenix         8.1\n"
     ]
    }
   ],
   "source": [
    "top_imdb = merged_df.nlargest(10, 'IMDB Score')[['title', 'IMDB Score']]\n",
    "print(top_imdb)"
   ]
  },
  {
   "cell_type": "code",
   "execution_count": 33,
   "metadata": {},
   "outputs": [
    {
     "name": "stdout",
     "output_type": "stream",
     "text": [
      "                title  IMDB Score\n",
      "3623  Enter the Anime         2.5\n",
      "2104      Dark Forces         2.6\n",
      "3094          The App         2.6\n",
      "5073   The Open House         3.2\n",
      "1777      Kaali Khuhi         3.4\n"
     ]
    }
   ],
   "source": [
    "lowest_imdb = merged_df.nsmallest(5, 'IMDB Score')[['title', 'IMDB Score']]\n",
    "print(lowest_imdb)"
   ]
  },
  {
   "cell_type": "code",
   "execution_count": 34,
   "metadata": {},
   "outputs": [
    {
     "name": "stdout",
     "output_type": "stream",
     "text": [
      "1                             Blood & Water\n",
      "3                     Jailbirds New Orleans\n",
      "4                              Kota Factory\n",
      "10      Vendetta: Truth, Lies and The Mafia\n",
      "14          Crime Stories: India Detectives\n",
      "                       ...                 \n",
      "8795                        Yu-Gi-Oh! Arc-V\n",
      "8796                             Yunus Emre\n",
      "8797                              Zak Storm\n",
      "8800                     Zindagi Gulzar Hai\n",
      "8803                            Zombie Dumb\n",
      "Name: title, Length: 2634, dtype: object\n"
     ]
    }
   ],
   "source": [
    "no_director_titles = merged_df.loc[merged_df['director'].isnull(), 'title']\n",
    "print(no_director_titles)"
   ]
  },
  {
   "cell_type": "code",
   "execution_count": 35,
   "metadata": {},
   "outputs": [
    {
     "name": "stdout",
     "output_type": "stream",
     "text": [
      "      Unnamed: 0_x show_id   type  \\\n",
      "0                0      s1  Movie   \n",
      "141            141    s142  Movie   \n",
      "834            834    s835  Movie   \n",
      "836            836    s837  Movie   \n",
      "840            840    s841  Movie   \n",
      "...            ...     ...    ...   \n",
      "5901          5901   s5902  Movie   \n",
      "5906          5906   s5907  Movie   \n",
      "5910          5910   s5911  Movie   \n",
      "5912          5912   s5913  Movie   \n",
      "5916          5916   s5917  Movie   \n",
      "\n",
      "                                                 title  \\\n",
      "0                                 Dick Johnson Is Dead   \n",
      "141                                         Extraction   \n",
      "834                                       Blue Miracle   \n",
      "836                                          Ghost Lab   \n",
      "840                        Baggio: The Divine Ponytail   \n",
      "...                                                ...   \n",
      "5901                                               Tig   \n",
      "5906                       What Happened, Miss Simone?   \n",
      "5910                                  Hot Girls Wanted   \n",
      "5912  The Other One: The Long Strange Trip of Bob Weir   \n",
      "5916                                        My Own Man   \n",
      "\n",
      "                           director  \\\n",
      "0                   Kirsten Johnson   \n",
      "141                Steven C. Miller   \n",
      "834                  Julio Quintana   \n",
      "836             Paween Purijitpanya   \n",
      "840               Letizia Lamartire   \n",
      "...                             ...   \n",
      "5901  Kristina Goolsby, Ashley York   \n",
      "5906                     Liz Garbus   \n",
      "5910       Jill Bauer, Ronna Gradus   \n",
      "5912                    Mike Fleiss   \n",
      "5916                David Sampliner   \n",
      "\n",
      "                                                   cast  \\\n",
      "0                                                   NaN   \n",
      "141   Bruce Willis, Kellan Lutz, Gina Carano, D.B. S...   \n",
      "834   Jimmy Gonzales, Dennis Quaid, Anthony Gonzalez...   \n",
      "836   Thanapob Leeratanakachorn, Paris Intarakomalya...   \n",
      "840   Andrea Arcangeli, Valentina Bellè, Andrea Penn...   \n",
      "...                                                 ...   \n",
      "5901                                         Tig Notaro   \n",
      "5906                                                NaN   \n",
      "5910                                                NaN   \n",
      "5912                                           Bob Weir   \n",
      "5916                                    David Sampliner   \n",
      "\n",
      "                                    country          date_added  release_year  \\\n",
      "0                             United States  September 25, 2021          2020   \n",
      "141   United States, United Kingdom, Canada   September 1, 2021          2015   \n",
      "834                           United States        May 27, 2021          2021   \n",
      "836                                Thailand        May 27, 2021          2021   \n",
      "840                                   Italy        May 26, 2021          2021   \n",
      "...                                     ...                 ...           ...   \n",
      "5901                          United States       July 17, 2015          2015   \n",
      "5906                          United States       June 26, 2015          2015   \n",
      "5910                          United States        May 29, 2015          2015   \n",
      "5912                          United States        May 22, 2015          2015   \n",
      "5916                          United States       March 6, 2015          2015   \n",
      "\n",
      "     rating duration                                          listed_in  \\\n",
      "0     PG-13   90 min                                      Documentaries   \n",
      "141       R   82 min                                 Action & Adventure   \n",
      "834   TV-PG      NaN  Children & Family Movies, Dramas, Faith & Spir...   \n",
      "836   TV-MA  118 min     Horror Movies, International Movies, Thrillers   \n",
      "840   TV-MA      NaN        Dramas, International Movies, Sports Movies   \n",
      "...     ...      ...                                                ...   \n",
      "5901  TV-14      NaN                     Documentaries, Stand-Up Comedy   \n",
      "5906  TV-14      NaN                    Documentaries, Music & Musicals   \n",
      "5910  TV-MA   83 min                                      Documentaries   \n",
      "5912  TV-14   84 min                    Documentaries, Music & Musicals   \n",
      "5916  TV-MA   82 min                                      Documentaries   \n",
      "\n",
      "                                            description  Unnamed: 0_y  \\\n",
      "0     As her father nears the end of his life, filmm...         535.0   \n",
      "141   When a retired CIA agent is kidnapped, his son...         372.0   \n",
      "834   To save their cash-strapped orphanage, a guard...         369.0   \n",
      "836   After witnessing a haunting in their hospital,...          71.0   \n",
      "840   The story of Roberto Baggio, one of the best s...         245.0   \n",
      "...                                                 ...           ...   \n",
      "5901  Comedian Tig Notaro announced her cancer diagn...         531.0   \n",
      "5906  Using never-before-heard recordings, rare arch...         550.0   \n",
      "5910  This 2015 Sundance Film Festival breakout docu...         228.0   \n",
      "5912  This chronicle of Bob Weir highlights his brot...         519.0   \n",
      "5916  When a man discovers he will be the father to ...         304.0   \n",
      "\n",
      "                                                 Title        Genre  \\\n",
      "0                                 Dick Johnson Is Dead  Documentary   \n",
      "141                                         Extraction       Action   \n",
      "834                                       Blue Miracle        Drama   \n",
      "836                                          Ghost Lab       Horror   \n",
      "840                        Baggio: The Divine Ponytail       Biopic   \n",
      "...                                                ...          ...   \n",
      "5901                                               Tig  Documentary   \n",
      "5906                       What Happened, Miss Simone?  Documentary   \n",
      "5910                                  Hot Girls Wanted  Documentary   \n",
      "5912  The Other One: The Long Strange Trip of Bob Weir  Documentary   \n",
      "5916                                        My Own Man  Documentary   \n",
      "\n",
      "               Premiere  Runtime  IMDB Score Language  \n",
      "0       October 2, 2020     90.0         7.5  English  \n",
      "141      April 24, 2020    117.0         6.7  English  \n",
      "834        May 27, 2021     95.0         6.7  English  \n",
      "836        May 26, 2021    117.0         5.2     Thai  \n",
      "840        May 26, 2021     92.0         6.2  Italian  \n",
      "...                 ...      ...         ...      ...  \n",
      "5901      July 17, 2015     80.0         7.4  English  \n",
      "5906      June 26, 2015     84.0         7.6  English  \n",
      "5910       May 29, 2015     84.0         6.1  English  \n",
      "5912       May 22, 2015     83.0         7.3  English  \n",
      "5916  December 13, 2014     81.0         6.4  English  \n",
      "\n",
      "[499 rows x 20 columns]\n"
     ]
    }
   ],
   "source": [
    "complete_info = merged_df.dropna(subset=['title', 'country', 'IMDB Score'])\n",
    "print(complete_info)"
   ]
  },
  {
   "cell_type": "code",
   "execution_count": 36,
   "metadata": {},
   "outputs": [
    {
     "name": "stdout",
     "output_type": "stream",
     "text": [
      "Títulos duplicados: 0\n"
     ]
    }
   ],
   "source": [
    "duplicated_titles = merged_df['title'].duplicated().sum()\n",
    "print(f\"Títulos duplicados: {duplicated_titles}\")"
   ]
  },
  {
   "cell_type": "markdown",
   "metadata": {},
   "source": [
    "Agrupamiento de Datos"
   ]
  },
  {
   "cell_type": "code",
   "execution_count": 33,
   "metadata": {},
   "outputs": [],
   "source": [
    "# ¿Cuántos títulos hay por cada tipo de contenido ('Movie' o 'TV Show')?\n",
    "\n",
    "result_1 = merged_df.groupby(\"type\").size().reset_index(name=\"count\")\n"
   ]
  },
  {
   "cell_type": "code",
   "execution_count": 31,
   "metadata": {},
   "outputs": [],
   "source": [
    "#¿Cuál es el promedio de puntuación de las películas agrupadas por clasificación de audiencia ('rating')?\n",
    "\n",
    "\n",
    "result_2 = merged_df[merged_df[\"type\"] == \"Movie\"].groupby(\"rating\")[\"IMDB Score\"].mean().reset_index(name=\"average_score\")\n"
   ]
  },
  {
   "cell_type": "code",
   "execution_count": 32,
   "metadata": {},
   "outputs": [],
   "source": [
    "#¿Cuántos títulos hay por cada país? Ordena los resultados de mayor a menor\n",
    "\n",
    "result_3 = merged_df.groupby(\"country\").size().reset_index(name=\"count\").sort_values(by=\"count\", ascending=False)\n"
   ]
  },
  {
   "cell_type": "code",
   "execution_count": null,
   "metadata": {},
   "outputs": [],
   "source": [
    "#¿Cuál es la calificación promedio en IMDb de los títulos agrupados por tipo ('Movie' o 'TV Show')?\n",
    "\n",
    "result_4 = merged_df.groupby(\"type\")[\"IMDB Score\"].mean().reset_index(name=\"average_score\")\n"
   ]
  },
  {
   "cell_type": "code",
   "execution_count": null,
   "metadata": {},
   "outputs": [],
   "source": [
    "# ¿Cuántos títulos se añadieron a Netflix cada año?\n",
    "\n",
    "merged_df[\"date_added\"] = pd.to_datetime(merged_df[\"date_added\"], errors=\"coerce\")\n",
    "result_5 = merged_df.groupby(merged_df[\"date_added\"].dt.year).size().reset_index(name=\"count\")\n"
   ]
  },
  {
   "cell_type": "code",
   "execution_count": null,
   "metadata": {},
   "outputs": [],
   "source": [
    "#¿Cuál es el país con más títulos lanzados en el año 2020?\n",
    "\n",
    "result_6 = merged_df[merged_df[\"date_added\"].dt.year == 2020].groupby(\"country\").size().idxmax()\n"
   ]
  },
  {
   "cell_type": "code",
   "execution_count": null,
   "metadata": {},
   "outputs": [],
   "source": [
    "#¿Cuál es el promedio de puntuación en IMDb de los títulos agrupados por país?\n",
    "\n",
    "result_7 = merged_df.groupby(\"country\")[\"IMDB Score\"].mean().reset_index(name=\"average_score\")\n"
   ]
  },
  {
   "cell_type": "code",
   "execution_count": null,
   "metadata": {},
   "outputs": [],
   "source": [
    "# ¿Cuántos títulos fueron lanzados en cada año agrupados por tipo ('Movie' o 'TV Show')?\n",
    "\n",
    "result_8 = merged_df.groupby([merged_df[\"date_added\"].dt.year, \"type\"]).size().reset_index(name=\"count\")\n"
   ]
  },
  {
   "cell_type": "code",
   "execution_count": null,
   "metadata": {},
   "outputs": [],
   "source": [
    "#¿Cuál es el país con la mayor cantidad de títulos de clasificación 'TV-MA'?\n",
    "\n",
    "result_9 = merged_df[merged_df[\"rating\"] == \"TV-MA\"].groupby(\"country\").size().idxmax()\n"
   ]
  },
  {
   "cell_type": "code",
   "execution_count": null,
   "metadata": {},
   "outputs": [],
   "source": [
    "#¿Cuál es el promedio de duración de las películas agrupadas por país?\n",
    "\n",
    "result_10 = merged_df[merged_df[\"type\"] == \"Movie\"].groupby(\"country\")[\"duration_cleaned\"].mean().reset_index(name=\"average_duration\")\n"
   ]
  },
  {
   "cell_type": "code",
   "execution_count": null,
   "metadata": {},
   "outputs": [],
   "source": [
    "#¿Cuál es el número total de títulos por país y clasificación de audiencia ('rating')?\n",
    "\n",
    "result_11 = merged_df.groupby([\"country\", \"rating\"]).size().reset_index(name=\"count\")\n"
   ]
  },
  {
   "cell_type": "code",
   "execution_count": null,
   "metadata": {},
   "outputs": [],
   "source": [
    "#¿Cuántos títulos fueron lanzados antes del año 2000 agrupados por país?\n",
    "\n",
    "result_12 = merged_df[merged_df[\"date_added\"].dt.year < 2000].groupby(\"country\").size().reset_index(name=\"count\")\n"
   ]
  },
  {
   "cell_type": "code",
   "execution_count": null,
   "metadata": {},
   "outputs": [],
   "source": [
    "#¿Cuál es la puntuación promedio en IMDb de los títulos lanzados en 2021 agrupados por país?\n",
    "\n",
    "result_13 = merged_df[merged_df[\"date_added\"].dt.year == 2021].groupby(\"country\")[\"IMDB Score\"].mean().reset_index(name=\"average_score\")\n"
   ]
  },
  {
   "cell_type": "code",
   "execution_count": null,
   "metadata": {},
   "outputs": [],
   "source": [
    "# ¿Cuántos títulos fueron dirigidos por cada director? \n",
    "\n",
    "result_14 = merged_df.groupby(\"first_name_director\").size().reset_index(name=\"count\").sort_values(by=\"count\", ascending=False)\n"
   ]
  },
  {
   "cell_type": "code",
   "execution_count": null,
   "metadata": {},
   "outputs": [],
   "source": [
    "# ¿Cuál es el lenguaje más frecuente en los títulos lanzados en los últimos 5 años agrupado por país?\n",
    "\n",
    "last_5_years = merged_df[merged_df[\"date_added\"].dt.year >= (pd.Timestamp.now().year - 5)]\n",
    "result_15 = last_5_years.groupby(\"country\")[\"Language\"].agg(lambda x: x.mode()[0] if not x.mode().empty else None).reset_index(name=\"most_common_language\")\n"
   ]
  }
 ],
 "metadata": {
  "kernelspec": {
   "display_name": "Python 3",
   "language": "python",
   "name": "python3"
  },
  "language_info": {
   "codemirror_mode": {
    "name": "ipython",
    "version": 3
   },
   "file_extension": ".py",
   "mimetype": "text/x-python",
   "name": "python",
   "nbconvert_exporter": "python",
   "pygments_lexer": "ipython3",
   "version": "3.11.9"
  }
 },
 "nbformat": 4,
 "nbformat_minor": 2
}
